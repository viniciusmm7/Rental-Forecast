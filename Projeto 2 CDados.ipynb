{
 "cells": [
  {
   "cell_type": "markdown",
   "metadata": {},
   "source": [
    "# Projeto 2 Ciência dos Dados - Engenharia Insper 2021.1\n",
    "## Integrantes: Rafael Pascarelli Nicheri e Vinícius Matheus Morales\n",
    "____________________________________________________________________________________________________________________________\n",
    "## Objetivo:\n",
    "### - Com esse projeto pretendemos prever o valor do aluguel de um determinado imóvel com base nos seguintes dados:\n",
    "- Tamanho do terreno em m²;\n",
    "- Quantidade de quartos;\n",
    "- Quantidade de banheiros;\n",
    "- Quantidade de suítes;\n",
    "- Quantidade de vagas de carro;\n",
    "- Se possui elevador;\n",
    "- Se possui móveis;\n",
    "- Se possui piscina;\n",
    "- Se é uma construção nova;\n",
    "- Região da cidade de São Paulo onde o imóvel se encontra."
   ]
  },
  {
   "cell_type": "markdown",
   "metadata": {},
   "source": [
    "## 1. Importando as bibliotecas que serão utilizadas no projeto e lendo o Dataset que será utilizado para as previsões"
   ]
  },
  {
   "cell_type": "code",
   "execution_count": 1,
   "metadata": {},
   "outputs": [],
   "source": [
    "import pandas as pd\n",
    "import numpy as np\n",
    "import matplotlib.pyplot as plt"
   ]
  },
  {
   "cell_type": "code",
   "execution_count": 2,
   "metadata": {},
   "outputs": [],
   "source": [
    "data = pd.read_csv('sao-paulo-properties-april-2019.csv')"
   ]
  },
  {
   "cell_type": "markdown",
   "metadata": {},
   "source": [
    "### 1.1 Filtrando o Dataset em um DataFrame que contenha apenas os aluguéis e exclua as vendas"
   ]
  },
  {
   "cell_type": "code",
   "execution_count": 3,
   "metadata": {
    "scrolled": false
   },
   "outputs": [
    {
     "data": {
      "text/html": [
       "<div>\n",
       "<style scoped>\n",
       "    .dataframe tbody tr th:only-of-type {\n",
       "        vertical-align: middle;\n",
       "    }\n",
       "\n",
       "    .dataframe tbody tr th {\n",
       "        vertical-align: top;\n",
       "    }\n",
       "\n",
       "    .dataframe thead th {\n",
       "        text-align: right;\n",
       "    }\n",
       "</style>\n",
       "<table border=\"1\" class=\"dataframe\">\n",
       "  <thead>\n",
       "    <tr style=\"text-align: right;\">\n",
       "      <th></th>\n",
       "      <th>Price</th>\n",
       "      <th>Condo</th>\n",
       "      <th>Size</th>\n",
       "      <th>Rooms</th>\n",
       "      <th>Toilets</th>\n",
       "      <th>Suites</th>\n",
       "      <th>Parking</th>\n",
       "      <th>Elevator</th>\n",
       "      <th>Furnished</th>\n",
       "      <th>Swimming Pool</th>\n",
       "      <th>New</th>\n",
       "      <th>District</th>\n",
       "      <th>Negotiation Type</th>\n",
       "      <th>Property Type</th>\n",
       "      <th>Latitude</th>\n",
       "      <th>Longitude</th>\n",
       "    </tr>\n",
       "  </thead>\n",
       "  <tbody>\n",
       "    <tr>\n",
       "      <th>0</th>\n",
       "      <td>930</td>\n",
       "      <td>220</td>\n",
       "      <td>47</td>\n",
       "      <td>2</td>\n",
       "      <td>2</td>\n",
       "      <td>1</td>\n",
       "      <td>1</td>\n",
       "      <td>0</td>\n",
       "      <td>0</td>\n",
       "      <td>0</td>\n",
       "      <td>0</td>\n",
       "      <td>Artur Alvim/São Paulo</td>\n",
       "      <td>rent</td>\n",
       "      <td>apartment</td>\n",
       "      <td>-23.543138</td>\n",
       "      <td>-46.479486</td>\n",
       "    </tr>\n",
       "    <tr>\n",
       "      <th>1</th>\n",
       "      <td>1000</td>\n",
       "      <td>148</td>\n",
       "      <td>45</td>\n",
       "      <td>2</td>\n",
       "      <td>2</td>\n",
       "      <td>1</td>\n",
       "      <td>1</td>\n",
       "      <td>0</td>\n",
       "      <td>0</td>\n",
       "      <td>0</td>\n",
       "      <td>0</td>\n",
       "      <td>Artur Alvim/São Paulo</td>\n",
       "      <td>rent</td>\n",
       "      <td>apartment</td>\n",
       "      <td>-23.550239</td>\n",
       "      <td>-46.480718</td>\n",
       "    </tr>\n",
       "    <tr>\n",
       "      <th>2</th>\n",
       "      <td>1000</td>\n",
       "      <td>100</td>\n",
       "      <td>48</td>\n",
       "      <td>2</td>\n",
       "      <td>2</td>\n",
       "      <td>1</td>\n",
       "      <td>1</td>\n",
       "      <td>0</td>\n",
       "      <td>0</td>\n",
       "      <td>0</td>\n",
       "      <td>0</td>\n",
       "      <td>Artur Alvim/São Paulo</td>\n",
       "      <td>rent</td>\n",
       "      <td>apartment</td>\n",
       "      <td>-23.542818</td>\n",
       "      <td>-46.485665</td>\n",
       "    </tr>\n",
       "    <tr>\n",
       "      <th>3</th>\n",
       "      <td>1000</td>\n",
       "      <td>200</td>\n",
       "      <td>48</td>\n",
       "      <td>2</td>\n",
       "      <td>2</td>\n",
       "      <td>1</td>\n",
       "      <td>1</td>\n",
       "      <td>0</td>\n",
       "      <td>0</td>\n",
       "      <td>0</td>\n",
       "      <td>0</td>\n",
       "      <td>Artur Alvim/São Paulo</td>\n",
       "      <td>rent</td>\n",
       "      <td>apartment</td>\n",
       "      <td>-23.547171</td>\n",
       "      <td>-46.483014</td>\n",
       "    </tr>\n",
       "    <tr>\n",
       "      <th>4</th>\n",
       "      <td>1300</td>\n",
       "      <td>410</td>\n",
       "      <td>55</td>\n",
       "      <td>2</td>\n",
       "      <td>2</td>\n",
       "      <td>1</td>\n",
       "      <td>1</td>\n",
       "      <td>1</td>\n",
       "      <td>0</td>\n",
       "      <td>0</td>\n",
       "      <td>0</td>\n",
       "      <td>Artur Alvim/São Paulo</td>\n",
       "      <td>rent</td>\n",
       "      <td>apartment</td>\n",
       "      <td>-23.525025</td>\n",
       "      <td>-46.482436</td>\n",
       "    </tr>\n",
       "    <tr>\n",
       "      <th>...</th>\n",
       "      <td>...</td>\n",
       "      <td>...</td>\n",
       "      <td>...</td>\n",
       "      <td>...</td>\n",
       "      <td>...</td>\n",
       "      <td>...</td>\n",
       "      <td>...</td>\n",
       "      <td>...</td>\n",
       "      <td>...</td>\n",
       "      <td>...</td>\n",
       "      <td>...</td>\n",
       "      <td>...</td>\n",
       "      <td>...</td>\n",
       "      <td>...</td>\n",
       "      <td>...</td>\n",
       "      <td>...</td>\n",
       "    </tr>\n",
       "    <tr>\n",
       "      <th>11205</th>\n",
       "      <td>3700</td>\n",
       "      <td>595</td>\n",
       "      <td>73</td>\n",
       "      <td>1</td>\n",
       "      <td>2</td>\n",
       "      <td>1</td>\n",
       "      <td>1</td>\n",
       "      <td>0</td>\n",
       "      <td>0</td>\n",
       "      <td>1</td>\n",
       "      <td>0</td>\n",
       "      <td>Brooklin/São Paulo</td>\n",
       "      <td>rent</td>\n",
       "      <td>apartment</td>\n",
       "      <td>-23.617682</td>\n",
       "      <td>-46.694963</td>\n",
       "    </tr>\n",
       "    <tr>\n",
       "      <th>11206</th>\n",
       "      <td>21000</td>\n",
       "      <td>3000</td>\n",
       "      <td>208</td>\n",
       "      <td>4</td>\n",
       "      <td>4</td>\n",
       "      <td>3</td>\n",
       "      <td>3</td>\n",
       "      <td>1</td>\n",
       "      <td>1</td>\n",
       "      <td>1</td>\n",
       "      <td>0</td>\n",
       "      <td>Brooklin/São Paulo</td>\n",
       "      <td>rent</td>\n",
       "      <td>apartment</td>\n",
       "      <td>-23.606891</td>\n",
       "      <td>-46.695934</td>\n",
       "    </tr>\n",
       "    <tr>\n",
       "      <th>11207</th>\n",
       "      <td>3800</td>\n",
       "      <td>710</td>\n",
       "      <td>55</td>\n",
       "      <td>1</td>\n",
       "      <td>1</td>\n",
       "      <td>0</td>\n",
       "      <td>1</td>\n",
       "      <td>0</td>\n",
       "      <td>1</td>\n",
       "      <td>1</td>\n",
       "      <td>0</td>\n",
       "      <td>Brooklin/São Paulo</td>\n",
       "      <td>rent</td>\n",
       "      <td>apartment</td>\n",
       "      <td>0.000000</td>\n",
       "      <td>0.000000</td>\n",
       "    </tr>\n",
       "    <tr>\n",
       "      <th>11208</th>\n",
       "      <td>5000</td>\n",
       "      <td>2354</td>\n",
       "      <td>205</td>\n",
       "      <td>3</td>\n",
       "      <td>2</td>\n",
       "      <td>1</td>\n",
       "      <td>2</td>\n",
       "      <td>1</td>\n",
       "      <td>0</td>\n",
       "      <td>0</td>\n",
       "      <td>0</td>\n",
       "      <td>Brooklin/São Paulo</td>\n",
       "      <td>rent</td>\n",
       "      <td>apartment</td>\n",
       "      <td>-23.612287</td>\n",
       "      <td>-46.681482</td>\n",
       "    </tr>\n",
       "    <tr>\n",
       "      <th>11209</th>\n",
       "      <td>15600</td>\n",
       "      <td>2300</td>\n",
       "      <td>162</td>\n",
       "      <td>3</td>\n",
       "      <td>4</td>\n",
       "      <td>3</td>\n",
       "      <td>3</td>\n",
       "      <td>0</td>\n",
       "      <td>0</td>\n",
       "      <td>1</td>\n",
       "      <td>0</td>\n",
       "      <td>Brooklin/São Paulo</td>\n",
       "      <td>rent</td>\n",
       "      <td>apartment</td>\n",
       "      <td>-23.615823</td>\n",
       "      <td>-46.685404</td>\n",
       "    </tr>\n",
       "  </tbody>\n",
       "</table>\n",
       "<p>7228 rows × 16 columns</p>\n",
       "</div>"
      ],
      "text/plain": [
       "       Price  Condo  Size  Rooms  Toilets  Suites  Parking  Elevator  \\\n",
       "0        930    220    47      2        2       1        1         0   \n",
       "1       1000    148    45      2        2       1        1         0   \n",
       "2       1000    100    48      2        2       1        1         0   \n",
       "3       1000    200    48      2        2       1        1         0   \n",
       "4       1300    410    55      2        2       1        1         1   \n",
       "...      ...    ...   ...    ...      ...     ...      ...       ...   \n",
       "11205   3700    595    73      1        2       1        1         0   \n",
       "11206  21000   3000   208      4        4       3        3         1   \n",
       "11207   3800    710    55      1        1       0        1         0   \n",
       "11208   5000   2354   205      3        2       1        2         1   \n",
       "11209  15600   2300   162      3        4       3        3         0   \n",
       "\n",
       "       Furnished  Swimming Pool  New               District Negotiation Type  \\\n",
       "0              0              0    0  Artur Alvim/São Paulo             rent   \n",
       "1              0              0    0  Artur Alvim/São Paulo             rent   \n",
       "2              0              0    0  Artur Alvim/São Paulo             rent   \n",
       "3              0              0    0  Artur Alvim/São Paulo             rent   \n",
       "4              0              0    0  Artur Alvim/São Paulo             rent   \n",
       "...          ...            ...  ...                    ...              ...   \n",
       "11205          0              1    0     Brooklin/São Paulo             rent   \n",
       "11206          1              1    0     Brooklin/São Paulo             rent   \n",
       "11207          1              1    0     Brooklin/São Paulo             rent   \n",
       "11208          0              0    0     Brooklin/São Paulo             rent   \n",
       "11209          0              1    0     Brooklin/São Paulo             rent   \n",
       "\n",
       "      Property Type   Latitude  Longitude  \n",
       "0         apartment -23.543138 -46.479486  \n",
       "1         apartment -23.550239 -46.480718  \n",
       "2         apartment -23.542818 -46.485665  \n",
       "3         apartment -23.547171 -46.483014  \n",
       "4         apartment -23.525025 -46.482436  \n",
       "...             ...        ...        ...  \n",
       "11205     apartment -23.617682 -46.694963  \n",
       "11206     apartment -23.606891 -46.695934  \n",
       "11207     apartment   0.000000   0.000000  \n",
       "11208     apartment -23.612287 -46.681482  \n",
       "11209     apartment -23.615823 -46.685404  \n",
       "\n",
       "[7228 rows x 16 columns]"
      ]
     },
     "execution_count": 3,
     "metadata": {},
     "output_type": "execute_result"
    }
   ],
   "source": [
    "rent_filter = data['Negotiation Type'] == 'rent' # Filtro para usarmos apenas dados de aluguel\n",
    "rent_data = data.loc[rent_filter, :] # Aplicando o filtro para mostrar apenas dados de alugel\n",
    "rent_data"
   ]
  },
  {
   "cell_type": "markdown",
   "metadata": {},
   "source": [
    "### 1.2 Reordenando os dados para ficarem em uma ordem mais legível"
   ]
  },
  {
   "cell_type": "code",
   "execution_count": 4,
   "metadata": {},
   "outputs": [
    {
     "data": {
      "text/html": [
       "<div>\n",
       "<style scoped>\n",
       "    .dataframe tbody tr th:only-of-type {\n",
       "        vertical-align: middle;\n",
       "    }\n",
       "\n",
       "    .dataframe tbody tr th {\n",
       "        vertical-align: top;\n",
       "    }\n",
       "\n",
       "    .dataframe thead th {\n",
       "        text-align: right;\n",
       "    }\n",
       "</style>\n",
       "<table border=\"1\" class=\"dataframe\">\n",
       "  <thead>\n",
       "    <tr style=\"text-align: right;\">\n",
       "      <th></th>\n",
       "      <th>Condo</th>\n",
       "      <th>Size</th>\n",
       "      <th>Rooms</th>\n",
       "      <th>Toilets</th>\n",
       "      <th>Suites</th>\n",
       "      <th>Parking</th>\n",
       "      <th>Elevator</th>\n",
       "      <th>Furnished</th>\n",
       "      <th>Swimming Pool</th>\n",
       "      <th>New</th>\n",
       "      <th>Price</th>\n",
       "    </tr>\n",
       "  </thead>\n",
       "  <tbody>\n",
       "    <tr>\n",
       "      <th>508</th>\n",
       "      <td>295</td>\n",
       "      <td>48</td>\n",
       "      <td>2</td>\n",
       "      <td>2</td>\n",
       "      <td>1</td>\n",
       "      <td>1</td>\n",
       "      <td>0</td>\n",
       "      <td>0</td>\n",
       "      <td>0</td>\n",
       "      <td>0</td>\n",
       "      <td>480</td>\n",
       "    </tr>\n",
       "    <tr>\n",
       "      <th>4486</th>\n",
       "      <td>380</td>\n",
       "      <td>66</td>\n",
       "      <td>2</td>\n",
       "      <td>1</td>\n",
       "      <td>0</td>\n",
       "      <td>1</td>\n",
       "      <td>0</td>\n",
       "      <td>0</td>\n",
       "      <td>0</td>\n",
       "      <td>0</td>\n",
       "      <td>500</td>\n",
       "    </tr>\n",
       "    <tr>\n",
       "      <th>2878</th>\n",
       "      <td>36</td>\n",
       "      <td>45</td>\n",
       "      <td>1</td>\n",
       "      <td>2</td>\n",
       "      <td>1</td>\n",
       "      <td>0</td>\n",
       "      <td>0</td>\n",
       "      <td>0</td>\n",
       "      <td>1</td>\n",
       "      <td>0</td>\n",
       "      <td>500</td>\n",
       "    </tr>\n",
       "    <tr>\n",
       "      <th>288</th>\n",
       "      <td>0</td>\n",
       "      <td>40</td>\n",
       "      <td>1</td>\n",
       "      <td>2</td>\n",
       "      <td>1</td>\n",
       "      <td>1</td>\n",
       "      <td>0</td>\n",
       "      <td>0</td>\n",
       "      <td>0</td>\n",
       "      <td>0</td>\n",
       "      <td>500</td>\n",
       "    </tr>\n",
       "    <tr>\n",
       "      <th>122</th>\n",
       "      <td>0</td>\n",
       "      <td>50</td>\n",
       "      <td>1</td>\n",
       "      <td>2</td>\n",
       "      <td>1</td>\n",
       "      <td>1</td>\n",
       "      <td>0</td>\n",
       "      <td>0</td>\n",
       "      <td>0</td>\n",
       "      <td>0</td>\n",
       "      <td>500</td>\n",
       "    </tr>\n",
       "    <tr>\n",
       "      <th>...</th>\n",
       "      <td>...</td>\n",
       "      <td>...</td>\n",
       "      <td>...</td>\n",
       "      <td>...</td>\n",
       "      <td>...</td>\n",
       "      <td>...</td>\n",
       "      <td>...</td>\n",
       "      <td>...</td>\n",
       "      <td>...</td>\n",
       "      <td>...</td>\n",
       "      <td>...</td>\n",
       "    </tr>\n",
       "    <tr>\n",
       "      <th>10530</th>\n",
       "      <td>4500</td>\n",
       "      <td>442</td>\n",
       "      <td>4</td>\n",
       "      <td>5</td>\n",
       "      <td>4</td>\n",
       "      <td>6</td>\n",
       "      <td>0</td>\n",
       "      <td>0</td>\n",
       "      <td>1</td>\n",
       "      <td>0</td>\n",
       "      <td>40000</td>\n",
       "    </tr>\n",
       "    <tr>\n",
       "      <th>234</th>\n",
       "      <td>0</td>\n",
       "      <td>443</td>\n",
       "      <td>4</td>\n",
       "      <td>2</td>\n",
       "      <td>1</td>\n",
       "      <td>1</td>\n",
       "      <td>0</td>\n",
       "      <td>0</td>\n",
       "      <td>0</td>\n",
       "      <td>0</td>\n",
       "      <td>45000</td>\n",
       "    </tr>\n",
       "    <tr>\n",
       "      <th>3732</th>\n",
       "      <td>6100</td>\n",
       "      <td>349</td>\n",
       "      <td>4</td>\n",
       "      <td>5</td>\n",
       "      <td>4</td>\n",
       "      <td>5</td>\n",
       "      <td>0</td>\n",
       "      <td>0</td>\n",
       "      <td>1</td>\n",
       "      <td>0</td>\n",
       "      <td>50000</td>\n",
       "    </tr>\n",
       "    <tr>\n",
       "      <th>1589</th>\n",
       "      <td>6800</td>\n",
       "      <td>598</td>\n",
       "      <td>4</td>\n",
       "      <td>7</td>\n",
       "      <td>4</td>\n",
       "      <td>6</td>\n",
       "      <td>1</td>\n",
       "      <td>0</td>\n",
       "      <td>1</td>\n",
       "      <td>0</td>\n",
       "      <td>50000</td>\n",
       "    </tr>\n",
       "    <tr>\n",
       "      <th>3408</th>\n",
       "      <td>5500</td>\n",
       "      <td>670</td>\n",
       "      <td>5</td>\n",
       "      <td>6</td>\n",
       "      <td>5</td>\n",
       "      <td>7</td>\n",
       "      <td>0</td>\n",
       "      <td>0</td>\n",
       "      <td>1</td>\n",
       "      <td>0</td>\n",
       "      <td>50000</td>\n",
       "    </tr>\n",
       "  </tbody>\n",
       "</table>\n",
       "<p>7228 rows × 11 columns</p>\n",
       "</div>"
      ],
      "text/plain": [
       "       Condo  Size  Rooms  Toilets  Suites  Parking  Elevator  Furnished  \\\n",
       "508      295    48      2        2       1        1         0          0   \n",
       "4486     380    66      2        1       0        1         0          0   \n",
       "2878      36    45      1        2       1        0         0          0   \n",
       "288        0    40      1        2       1        1         0          0   \n",
       "122        0    50      1        2       1        1         0          0   \n",
       "...      ...   ...    ...      ...     ...      ...       ...        ...   \n",
       "10530   4500   442      4        5       4        6         0          0   \n",
       "234        0   443      4        2       1        1         0          0   \n",
       "3732    6100   349      4        5       4        5         0          0   \n",
       "1589    6800   598      4        7       4        6         1          0   \n",
       "3408    5500   670      5        6       5        7         0          0   \n",
       "\n",
       "       Swimming Pool  New  Price  \n",
       "508                0    0    480  \n",
       "4486               0    0    500  \n",
       "2878               1    0    500  \n",
       "288                0    0    500  \n",
       "122                0    0    500  \n",
       "...              ...  ...    ...  \n",
       "10530              1    0  40000  \n",
       "234                0    0  45000  \n",
       "3732               1    0  50000  \n",
       "1589               1    0  50000  \n",
       "3408               1    0  50000  \n",
       "\n",
       "[7228 rows x 11 columns]"
      ]
     },
     "execution_count": 4,
     "metadata": {},
     "output_type": "execute_result"
    }
   ],
   "source": [
    "# DataFrame com os dados relevantes\n",
    "relevant_data = rent_data.iloc[:, :-5]\n",
    "relevant_data = relevant_data.loc[:, ['Condo', 'Size', 'Rooms', 'Toilets', 'Suites', 'Parking', 'Elevator', 'Furnished', 'Swimming Pool', 'New', 'Price']]\n",
    "relevant_data.sort_values('Price')"
   ]
  },
  {
   "cell_type": "markdown",
   "metadata": {},
   "source": [
    "## 2. Preprocessamento de dados"
   ]
  },
  {
   "cell_type": "code",
   "execution_count": 5,
   "metadata": {},
   "outputs": [],
   "source": [
    "# Transformando int em float para auxiliar no dimensionamento de recursos\n",
    "for i in relevant_data.keys():\n",
    "    relevant_data[i] = relevant_data[i].astype(float)"
   ]
  },
  {
   "cell_type": "code",
   "execution_count": 6,
   "metadata": {},
   "outputs": [],
   "source": [
    "X = relevant_data.iloc[:, :-1].values # Separando as variáveis independentes\n",
    "Y = relevant_data.iloc[:, -1].values # Separando a variável dependente"
   ]
  },
  {
   "cell_type": "markdown",
   "metadata": {},
   "source": [
    "### 2.1 Separando os dados em Treino e Teste"
   ]
  },
  {
   "cell_type": "code",
   "execution_count": 7,
   "metadata": {},
   "outputs": [],
   "source": [
    "# Separando os dados em Treino e Teste\n",
    "from sklearn.model_selection import train_test_split\n",
    "X_train, X_test, Y_train, Y_test = train_test_split(X, Y, test_size=0.2)"
   ]
  },
  {
   "cell_type": "markdown",
   "metadata": {},
   "source": [
    "### 2.2 Dimensionamento de recursos"
   ]
  },
  {
   "cell_type": "code",
   "execution_count": 8,
   "metadata": {},
   "outputs": [],
   "source": [
    "# Dimensionamento de recursos\n",
    "from sklearn.preprocessing import StandardScaler\n",
    "sc = StandardScaler()\n",
    "X_train[:, :5] = sc.fit_transform(X_train[:, :5])\n",
    "X_test[:, :5] = sc.transform(X_test[:, :5])"
   ]
  },
  {
   "cell_type": "markdown",
   "metadata": {},
   "source": [
    "# Regressões"
   ]
  },
  {
   "cell_type": "markdown",
   "metadata": {},
   "source": [
    "## 3. Regressão por Árvore de Decisão"
   ]
  },
  {
   "cell_type": "code",
   "execution_count": 9,
   "metadata": {},
   "outputs": [
    {
     "data": {
      "text/plain": [
       "DecisionTreeRegressor()"
      ]
     },
     "execution_count": 9,
     "metadata": {},
     "output_type": "execute_result"
    }
   ],
   "source": [
    "# Aplicar o Decision Tree Regressor\n",
    "from sklearn.tree import DecisionTreeRegressor\n",
    "regressor = DecisionTreeRegressor()\n",
    "regressor.fit(X_train, Y_train)"
   ]
  },
  {
   "cell_type": "code",
   "execution_count": 10,
   "metadata": {
    "scrolled": true
   },
   "outputs": [
    {
     "name": "stdout",
     "output_type": "stream",
     "text": [
      "[[ 1600.   1850. ]\n",
      " [10000.   8000. ]\n",
      " [ 1131.5  1365. ]\n",
      " ...\n",
      " [ 2800.   2400. ]\n",
      " [ 3500.   2900. ]\n",
      " [ 3300.   3500. ]]\n"
     ]
    }
   ],
   "source": [
    "Y_pred = regressor.predict(X_test)\n",
    "np.set_printoptions(precision=2)\n",
    "print(np.concatenate((Y_pred.reshape(len(Y_pred),1), Y_test.reshape(len(Y_test),1)),1))"
   ]
  },
  {
   "cell_type": "markdown",
   "metadata": {},
   "source": [
    "### 3.1 Precisão por R²"
   ]
  },
  {
   "cell_type": "code",
   "execution_count": 11,
   "metadata": {},
   "outputs": [
    {
     "data": {
      "text/plain": [
       "0.3867470397302043"
      ]
     },
     "execution_count": 11,
     "metadata": {},
     "output_type": "execute_result"
    }
   ],
   "source": [
    "from sklearn.metrics import r2_score\n",
    "r2_score(Y_test, Y_pred)"
   ]
  },
  {
   "cell_type": "markdown",
   "metadata": {},
   "source": [
    "### 3.2 Plotagem de gráfico para visualizar a precisão"
   ]
  },
  {
   "cell_type": "code",
   "execution_count": 12,
   "metadata": {
    "scrolled": false
   },
   "outputs": [],
   "source": [
    "# Pensar em como fazer"
   ]
  },
  {
   "cell_type": "markdown",
   "metadata": {},
   "source": [
    "## 4. Regressão linear simples"
   ]
  },
  {
   "cell_type": "code",
   "execution_count": 13,
   "metadata": {},
   "outputs": [
    {
     "data": {
      "text/plain": [
       "LinearRegression()"
      ]
     },
     "execution_count": 13,
     "metadata": {},
     "output_type": "execute_result"
    }
   ],
   "source": [
    "from sklearn.linear_model import LinearRegression\n",
    "regressor = LinearRegression()\n",
    "regressor.fit(X_train, Y_train)"
   ]
  },
  {
   "cell_type": "code",
   "execution_count": 14,
   "metadata": {},
   "outputs": [
    {
     "name": "stdout",
     "output_type": "stream",
     "text": [
      "[[ 950.67 1850.  ]\n",
      " [7353.23 8000.  ]\n",
      " [ 786.11 1365.  ]\n",
      " ...\n",
      " [2187.78 2400.  ]\n",
      " [3195.81 2900.  ]\n",
      " [2184.29 3500.  ]]\n"
     ]
    }
   ],
   "source": [
    "Y_pred = regressor.predict(X_test)\n",
    "print(np.concatenate((Y_pred.reshape(len(Y_pred),1), Y_test.reshape(len(Y_test),1)),1))"
   ]
  },
  {
   "cell_type": "markdown",
   "metadata": {},
   "source": [
    "### 4.1 Precisão por R²"
   ]
  },
  {
   "cell_type": "code",
   "execution_count": 15,
   "metadata": {},
   "outputs": [
    {
     "data": {
      "text/plain": [
       "0.6369121134827275"
      ]
     },
     "execution_count": 15,
     "metadata": {},
     "output_type": "execute_result"
    }
   ],
   "source": [
    "from sklearn.metrics import r2_score\n",
    "r2_score(Y_test, Y_pred)"
   ]
  },
  {
   "cell_type": "markdown",
   "metadata": {},
   "source": [
    "### 4.2 Plotagem de gráfico para visualizar precisão"
   ]
  },
  {
   "cell_type": "code",
   "execution_count": 16,
   "metadata": {},
   "outputs": [],
   "source": [
    "# Pensar em como fazer"
   ]
  },
  {
   "cell_type": "markdown",
   "metadata": {},
   "source": [
    "## 5. Regressão por Vetores de Suporte"
   ]
  },
  {
   "cell_type": "code",
   "execution_count": 17,
   "metadata": {},
   "outputs": [
    {
     "data": {
      "text/plain": [
       "SVR()"
      ]
     },
     "execution_count": 17,
     "metadata": {},
     "output_type": "execute_result"
    }
   ],
   "source": [
    "from sklearn.svm import SVR\n",
    "regressor = SVR(kernel='rbf')\n",
    "regressor.fit(X_train, Y_train)"
   ]
  },
  {
   "cell_type": "code",
   "execution_count": 18,
   "metadata": {},
   "outputs": [
    {
     "name": "stdout",
     "output_type": "stream",
     "text": [
      "[[1695.15 1850.  ]\n",
      " [2834.28 8000.  ]\n",
      " [1878.44 1365.  ]\n",
      " ...\n",
      " [1878.74 2400.  ]\n",
      " [2307.9  2900.  ]\n",
      " [1853.1  3500.  ]]\n"
     ]
    }
   ],
   "source": [
    "Y_pred = regressor.predict(X_test)\n",
    "print(np.concatenate((Y_pred.reshape(len(Y_pred),1), Y_test.reshape(len(Y_test),1)),1))"
   ]
  },
  {
   "cell_type": "markdown",
   "metadata": {},
   "source": [
    "### 5.1 Precisão por R²"
   ]
  },
  {
   "cell_type": "code",
   "execution_count": 19,
   "metadata": {},
   "outputs": [
    {
     "data": {
      "text/plain": [
       "0.018594321459640795"
      ]
     },
     "execution_count": 19,
     "metadata": {},
     "output_type": "execute_result"
    }
   ],
   "source": [
    "from sklearn.metrics import r2_score\n",
    "r2_score(Y_test, Y_pred)"
   ]
  },
  {
   "cell_type": "markdown",
   "metadata": {},
   "source": [
    "### 5.2 Plotagem de gráfico para visualização"
   ]
  },
  {
   "cell_type": "code",
   "execution_count": 20,
   "metadata": {},
   "outputs": [],
   "source": [
    "# Pensar em como fazer"
   ]
  },
  {
   "cell_type": "markdown",
   "metadata": {},
   "source": [
    "## 6. Regressão por Floresta Aleatória"
   ]
  },
  {
   "cell_type": "code",
   "execution_count": 21,
   "metadata": {},
   "outputs": [
    {
     "data": {
      "text/plain": [
       "RandomForestRegressor()"
      ]
     },
     "execution_count": 21,
     "metadata": {},
     "output_type": "execute_result"
    }
   ],
   "source": [
    "from sklearn.ensemble import RandomForestRegressor\n",
    "regressor = RandomForestRegressor()\n",
    "regressor.fit(X_train, Y_train)"
   ]
  },
  {
   "cell_type": "code",
   "execution_count": 22,
   "metadata": {},
   "outputs": [
    {
     "name": "stdout",
     "output_type": "stream",
     "text": [
      "[[1591.   1850.  ]\n",
      " [8819.74 8000.  ]\n",
      " [1498.38 1365.  ]\n",
      " ...\n",
      " [2721.52 2400.  ]\n",
      " [3624.86 2900.  ]\n",
      " [2438.5  3500.  ]]\n"
     ]
    }
   ],
   "source": [
    "Y_pred = regressor.predict(X_test)\n",
    "print(np.concatenate((Y_pred.reshape(len(Y_pred),1), Y_test.reshape(len(Y_test),1)),1))"
   ]
  },
  {
   "cell_type": "markdown",
   "metadata": {},
   "source": [
    "### 6.1 Precisão por R²"
   ]
  },
  {
   "cell_type": "code",
   "execution_count": 23,
   "metadata": {},
   "outputs": [
    {
     "data": {
      "text/plain": [
       "0.679240834378749"
      ]
     },
     "execution_count": 23,
     "metadata": {},
     "output_type": "execute_result"
    }
   ],
   "source": [
    "from sklearn.metrics import r2_score\n",
    "r2_score(Y_test, Y_pred)"
   ]
  },
  {
   "cell_type": "markdown",
   "metadata": {},
   "source": [
    "### 6.2 Plotagem de gráfico para visualização"
   ]
  },
  {
   "cell_type": "code",
   "execution_count": 24,
   "metadata": {},
   "outputs": [],
   "source": [
    "# Pensar em como fazer"
   ]
  },
  {
   "cell_type": "markdown",
   "metadata": {},
   "source": [
    "# Classificadores"
   ]
  },
  {
   "cell_type": "code",
   "execution_count": null,
   "metadata": {},
   "outputs": [],
   "source": []
  },
  {
   "cell_type": "code",
   "execution_count": null,
   "metadata": {},
   "outputs": [],
   "source": []
  },
  {
   "cell_type": "code",
   "execution_count": null,
   "metadata": {},
   "outputs": [],
   "source": []
  },
  {
   "cell_type": "code",
   "execution_count": null,
   "metadata": {},
   "outputs": [],
   "source": []
  },
  {
   "cell_type": "code",
   "execution_count": null,
   "metadata": {},
   "outputs": [],
   "source": []
  },
  {
   "cell_type": "code",
   "execution_count": null,
   "metadata": {},
   "outputs": [],
   "source": []
  },
  {
   "cell_type": "code",
   "execution_count": null,
   "metadata": {},
   "outputs": [],
   "source": []
  },
  {
   "cell_type": "code",
   "execution_count": null,
   "metadata": {},
   "outputs": [],
   "source": []
  },
  {
   "cell_type": "code",
   "execution_count": null,
   "metadata": {},
   "outputs": [],
   "source": []
  }
 ],
 "metadata": {
  "kernelspec": {
   "display_name": "Python 3",
   "language": "python",
   "name": "python3"
  },
  "language_info": {
   "codemirror_mode": {
    "name": "ipython",
    "version": 3
   },
   "file_extension": ".py",
   "mimetype": "text/x-python",
   "name": "python",
   "nbconvert_exporter": "python",
   "pygments_lexer": "ipython3",
   "version": "3.8.3"
  }
 },
 "nbformat": 4,
 "nbformat_minor": 4
}
