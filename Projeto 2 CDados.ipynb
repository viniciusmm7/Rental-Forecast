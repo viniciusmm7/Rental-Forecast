{
 "cells": [
  {
   "cell_type": "markdown",
   "metadata": {},
   "source": [
    "# Projeto 2 Ciência dos Dados - Engenharia Insper 2021.1\n",
    "## Integrantes: Rafael Pascarelli Nicheri e Vinícius Matheus Morales\n",
    "____________________________________________________________________________________________________________________________\n",
    "## Objetivo:\n",
    "### - Com esse projeto pretendemos prever o valor do aluguel de um determinado imóvel com base nos seguintes dados:\n",
    "- Tamanho do terreno em m²;\n",
    "- Quantidade de quartos;\n",
    "- Quantidade de banheiros;\n",
    "- Quantidade de suítes;\n",
    "- Quantidade de vagas de carro;\n",
    "- Se possui elevador;\n",
    "- Se possui móveis;\n",
    "- Se possui piscina;\n",
    "- Se é uma construção nova;\n",
    "- Região da cidade de São Paulo onde o imóvel se encontra."
   ]
  },
  {
   "cell_type": "markdown",
   "metadata": {},
   "source": [
    "## 1. Importando as bibliotecas que serão utilizadas no projeto e lendo o Dataset que será utilizado para as previsões"
   ]
  },
  {
   "cell_type": "code",
   "execution_count": 4,
   "metadata": {},
   "outputs": [],
   "source": [
    "import pandas as pd\n",
    "import numpy as np\n",
    "import matplotlib.pyplot as plt\n",
    "from matplotlib.patches import Rectangle"
   ]
  },
  {
   "cell_type": "code",
   "execution_count": 5,
   "metadata": {},
   "outputs": [],
   "source": [
    "data = pd.read_csv('sao-paulo-properties-april-2019.csv')  #ler uma base de dados no formato csv"
   ]
  },
  {
   "cell_type": "markdown",
   "metadata": {},
   "source": [
    "### 1.1 Filtrando o Dataset em um DataFrame que contenha apenas os aluguéis e exclua as vendas"
   ]
  },
  {
   "cell_type": "code",
   "execution_count": 6,
   "metadata": {
    "scrolled": false
   },
   "outputs": [
    {
     "data": {
      "text/html": [
       "<div>\n",
       "<style scoped>\n",
       "    .dataframe tbody tr th:only-of-type {\n",
       "        vertical-align: middle;\n",
       "    }\n",
       "\n",
       "    .dataframe tbody tr th {\n",
       "        vertical-align: top;\n",
       "    }\n",
       "\n",
       "    .dataframe thead th {\n",
       "        text-align: right;\n",
       "    }\n",
       "</style>\n",
       "<table border=\"1\" class=\"dataframe\">\n",
       "  <thead>\n",
       "    <tr style=\"text-align: right;\">\n",
       "      <th></th>\n",
       "      <th>Price</th>\n",
       "      <th>Condo</th>\n",
       "      <th>Size</th>\n",
       "      <th>Rooms</th>\n",
       "      <th>Toilets</th>\n",
       "      <th>Suites</th>\n",
       "      <th>Parking</th>\n",
       "      <th>Elevator</th>\n",
       "      <th>Furnished</th>\n",
       "      <th>Swimming Pool</th>\n",
       "      <th>New</th>\n",
       "      <th>District</th>\n",
       "      <th>Negotiation Type</th>\n",
       "      <th>Property Type</th>\n",
       "      <th>Latitude</th>\n",
       "      <th>Longitude</th>\n",
       "    </tr>\n",
       "  </thead>\n",
       "  <tbody>\n",
       "    <tr>\n",
       "      <th>0</th>\n",
       "      <td>930</td>\n",
       "      <td>220</td>\n",
       "      <td>47</td>\n",
       "      <td>2</td>\n",
       "      <td>2</td>\n",
       "      <td>1</td>\n",
       "      <td>1</td>\n",
       "      <td>0</td>\n",
       "      <td>0</td>\n",
       "      <td>0</td>\n",
       "      <td>0</td>\n",
       "      <td>Artur Alvim/São Paulo</td>\n",
       "      <td>rent</td>\n",
       "      <td>apartment</td>\n",
       "      <td>-23.543138</td>\n",
       "      <td>-46.479486</td>\n",
       "    </tr>\n",
       "    <tr>\n",
       "      <th>1</th>\n",
       "      <td>1000</td>\n",
       "      <td>148</td>\n",
       "      <td>45</td>\n",
       "      <td>2</td>\n",
       "      <td>2</td>\n",
       "      <td>1</td>\n",
       "      <td>1</td>\n",
       "      <td>0</td>\n",
       "      <td>0</td>\n",
       "      <td>0</td>\n",
       "      <td>0</td>\n",
       "      <td>Artur Alvim/São Paulo</td>\n",
       "      <td>rent</td>\n",
       "      <td>apartment</td>\n",
       "      <td>-23.550239</td>\n",
       "      <td>-46.480718</td>\n",
       "    </tr>\n",
       "    <tr>\n",
       "      <th>2</th>\n",
       "      <td>1000</td>\n",
       "      <td>100</td>\n",
       "      <td>48</td>\n",
       "      <td>2</td>\n",
       "      <td>2</td>\n",
       "      <td>1</td>\n",
       "      <td>1</td>\n",
       "      <td>0</td>\n",
       "      <td>0</td>\n",
       "      <td>0</td>\n",
       "      <td>0</td>\n",
       "      <td>Artur Alvim/São Paulo</td>\n",
       "      <td>rent</td>\n",
       "      <td>apartment</td>\n",
       "      <td>-23.542818</td>\n",
       "      <td>-46.485665</td>\n",
       "    </tr>\n",
       "    <tr>\n",
       "      <th>3</th>\n",
       "      <td>1000</td>\n",
       "      <td>200</td>\n",
       "      <td>48</td>\n",
       "      <td>2</td>\n",
       "      <td>2</td>\n",
       "      <td>1</td>\n",
       "      <td>1</td>\n",
       "      <td>0</td>\n",
       "      <td>0</td>\n",
       "      <td>0</td>\n",
       "      <td>0</td>\n",
       "      <td>Artur Alvim/São Paulo</td>\n",
       "      <td>rent</td>\n",
       "      <td>apartment</td>\n",
       "      <td>-23.547171</td>\n",
       "      <td>-46.483014</td>\n",
       "    </tr>\n",
       "    <tr>\n",
       "      <th>4</th>\n",
       "      <td>1300</td>\n",
       "      <td>410</td>\n",
       "      <td>55</td>\n",
       "      <td>2</td>\n",
       "      <td>2</td>\n",
       "      <td>1</td>\n",
       "      <td>1</td>\n",
       "      <td>1</td>\n",
       "      <td>0</td>\n",
       "      <td>0</td>\n",
       "      <td>0</td>\n",
       "      <td>Artur Alvim/São Paulo</td>\n",
       "      <td>rent</td>\n",
       "      <td>apartment</td>\n",
       "      <td>-23.525025</td>\n",
       "      <td>-46.482436</td>\n",
       "    </tr>\n",
       "    <tr>\n",
       "      <th>...</th>\n",
       "      <td>...</td>\n",
       "      <td>...</td>\n",
       "      <td>...</td>\n",
       "      <td>...</td>\n",
       "      <td>...</td>\n",
       "      <td>...</td>\n",
       "      <td>...</td>\n",
       "      <td>...</td>\n",
       "      <td>...</td>\n",
       "      <td>...</td>\n",
       "      <td>...</td>\n",
       "      <td>...</td>\n",
       "      <td>...</td>\n",
       "      <td>...</td>\n",
       "      <td>...</td>\n",
       "      <td>...</td>\n",
       "    </tr>\n",
       "    <tr>\n",
       "      <th>11205</th>\n",
       "      <td>3700</td>\n",
       "      <td>595</td>\n",
       "      <td>73</td>\n",
       "      <td>1</td>\n",
       "      <td>2</td>\n",
       "      <td>1</td>\n",
       "      <td>1</td>\n",
       "      <td>0</td>\n",
       "      <td>0</td>\n",
       "      <td>1</td>\n",
       "      <td>0</td>\n",
       "      <td>Brooklin/São Paulo</td>\n",
       "      <td>rent</td>\n",
       "      <td>apartment</td>\n",
       "      <td>-23.617682</td>\n",
       "      <td>-46.694963</td>\n",
       "    </tr>\n",
       "    <tr>\n",
       "      <th>11206</th>\n",
       "      <td>21000</td>\n",
       "      <td>3000</td>\n",
       "      <td>208</td>\n",
       "      <td>4</td>\n",
       "      <td>4</td>\n",
       "      <td>3</td>\n",
       "      <td>3</td>\n",
       "      <td>1</td>\n",
       "      <td>1</td>\n",
       "      <td>1</td>\n",
       "      <td>0</td>\n",
       "      <td>Brooklin/São Paulo</td>\n",
       "      <td>rent</td>\n",
       "      <td>apartment</td>\n",
       "      <td>-23.606891</td>\n",
       "      <td>-46.695934</td>\n",
       "    </tr>\n",
       "    <tr>\n",
       "      <th>11207</th>\n",
       "      <td>3800</td>\n",
       "      <td>710</td>\n",
       "      <td>55</td>\n",
       "      <td>1</td>\n",
       "      <td>1</td>\n",
       "      <td>0</td>\n",
       "      <td>1</td>\n",
       "      <td>0</td>\n",
       "      <td>1</td>\n",
       "      <td>1</td>\n",
       "      <td>0</td>\n",
       "      <td>Brooklin/São Paulo</td>\n",
       "      <td>rent</td>\n",
       "      <td>apartment</td>\n",
       "      <td>0.000000</td>\n",
       "      <td>0.000000</td>\n",
       "    </tr>\n",
       "    <tr>\n",
       "      <th>11208</th>\n",
       "      <td>5000</td>\n",
       "      <td>2354</td>\n",
       "      <td>205</td>\n",
       "      <td>3</td>\n",
       "      <td>2</td>\n",
       "      <td>1</td>\n",
       "      <td>2</td>\n",
       "      <td>1</td>\n",
       "      <td>0</td>\n",
       "      <td>0</td>\n",
       "      <td>0</td>\n",
       "      <td>Brooklin/São Paulo</td>\n",
       "      <td>rent</td>\n",
       "      <td>apartment</td>\n",
       "      <td>-23.612287</td>\n",
       "      <td>-46.681482</td>\n",
       "    </tr>\n",
       "    <tr>\n",
       "      <th>11209</th>\n",
       "      <td>15600</td>\n",
       "      <td>2300</td>\n",
       "      <td>162</td>\n",
       "      <td>3</td>\n",
       "      <td>4</td>\n",
       "      <td>3</td>\n",
       "      <td>3</td>\n",
       "      <td>0</td>\n",
       "      <td>0</td>\n",
       "      <td>1</td>\n",
       "      <td>0</td>\n",
       "      <td>Brooklin/São Paulo</td>\n",
       "      <td>rent</td>\n",
       "      <td>apartment</td>\n",
       "      <td>-23.615823</td>\n",
       "      <td>-46.685404</td>\n",
       "    </tr>\n",
       "  </tbody>\n",
       "</table>\n",
       "<p>7228 rows × 16 columns</p>\n",
       "</div>"
      ],
      "text/plain": [
       "       Price  Condo  Size  Rooms  Toilets  Suites  Parking  Elevator  \\\n",
       "0        930    220    47      2        2       1        1         0   \n",
       "1       1000    148    45      2        2       1        1         0   \n",
       "2       1000    100    48      2        2       1        1         0   \n",
       "3       1000    200    48      2        2       1        1         0   \n",
       "4       1300    410    55      2        2       1        1         1   \n",
       "...      ...    ...   ...    ...      ...     ...      ...       ...   \n",
       "11205   3700    595    73      1        2       1        1         0   \n",
       "11206  21000   3000   208      4        4       3        3         1   \n",
       "11207   3800    710    55      1        1       0        1         0   \n",
       "11208   5000   2354   205      3        2       1        2         1   \n",
       "11209  15600   2300   162      3        4       3        3         0   \n",
       "\n",
       "       Furnished  Swimming Pool  New               District Negotiation Type  \\\n",
       "0              0              0    0  Artur Alvim/São Paulo             rent   \n",
       "1              0              0    0  Artur Alvim/São Paulo             rent   \n",
       "2              0              0    0  Artur Alvim/São Paulo             rent   \n",
       "3              0              0    0  Artur Alvim/São Paulo             rent   \n",
       "4              0              0    0  Artur Alvim/São Paulo             rent   \n",
       "...          ...            ...  ...                    ...              ...   \n",
       "11205          0              1    0     Brooklin/São Paulo             rent   \n",
       "11206          1              1    0     Brooklin/São Paulo             rent   \n",
       "11207          1              1    0     Brooklin/São Paulo             rent   \n",
       "11208          0              0    0     Brooklin/São Paulo             rent   \n",
       "11209          0              1    0     Brooklin/São Paulo             rent   \n",
       "\n",
       "      Property Type   Latitude  Longitude  \n",
       "0         apartment -23.543138 -46.479486  \n",
       "1         apartment -23.550239 -46.480718  \n",
       "2         apartment -23.542818 -46.485665  \n",
       "3         apartment -23.547171 -46.483014  \n",
       "4         apartment -23.525025 -46.482436  \n",
       "...             ...        ...        ...  \n",
       "11205     apartment -23.617682 -46.694963  \n",
       "11206     apartment -23.606891 -46.695934  \n",
       "11207     apartment   0.000000   0.000000  \n",
       "11208     apartment -23.612287 -46.681482  \n",
       "11209     apartment -23.615823 -46.685404  \n",
       "\n",
       "[7228 rows x 16 columns]"
      ]
     },
     "execution_count": 6,
     "metadata": {},
     "output_type": "execute_result"
    }
   ],
   "source": [
    "rent_filter = data['Negotiation Type'] == 'rent' # Filtro para usarmos apenas dados de aluguel\n",
    "rent_data = data.loc[rent_filter, :] # Aplicando o filtro para mostrar apenas dados de alugel\n",
    "rent_data   #mostrando a base de dados apemnas com dados do aluguel"
   ]
  },
  {
   "cell_type": "markdown",
   "metadata": {},
   "source": [
    "### 1.2 Cruzando dados das variáveis dependentes com a variável independente\n",
    "- Com o objetivo de observar o comportamento da variável target do projeto \"Preço\" com cada feature.\n",
    "- A variável target é uma variável do tipo quantitativa, portanto ao cruzar com outras variáveis quantitativas como \"Condo\", \"Size\", \"Rooms\", \"Toilets\", \"Suites\" e \"Parking\" iremos utilizar medidas de associação e gráfico de dispersão.\n",
    "- Ao cruzar as informações com variáveis qualitativas como \"Elevator\", \"Furnished\", \"Swimming Pool\" e \"New\" iremos usar medidas-resumo da variável quantitativa segmentando por rótulo da variável qualitativa e histogramas da variável quantitativa segmentando por rótulo da variável qualitativa."
   ]
  },
  {
   "cell_type": "code",
   "execution_count": 20,
   "metadata": {
    "scrolled": false
   },
   "outputs": [
    {
     "data": {
      "text/plain": [
       "(array([1., 0., 1., 0., 1., 0., 0., 0., 0., 3.]),\n",
       " array([1250., 1385., 1520., 1655., 1790., 1925., 2060., 2195., 2330.,\n",
       "        2465., 2600.]),\n",
       " <BarContainer object of 10 artists>)"
      ]
     },
     "execution_count": 20,
     "metadata": {},
     "output_type": "execute_result"
    },
    {
     "data": {
      "image/png": "[encoded data removed]",
      "text/plain": [
       "<Figure size 432x288 with 1 Axes>"
      ]
     },
     "metadata": {
      "needs_background": "light"
     },
     "output_type": "display_data"
    },
    {
     "data": {
      "image/png": "[encoded data removed]",
      "text/plain": [
       "<Figure size 432x288 with 1 Axes>"
      ]
     },
     "metadata": {
      "needs_background": "light"
     },
     "output_type": "display_data"
    },
    {
     "data": {
      "image/png": "[encoded data removed]",
      "text/plain": [
       "<Figure size 432x288 with 1 Axes>"
      ]
     },
     "metadata": {
      "needs_background": "light"
     },
     "output_type": "display_data"
    },
    {
     "data": {
      "image/png": "[encoded data removed]",
      "text/plain": [
       "<Figure size 432x288 with 1 Axes>"
      ]
     },
     "metadata": {
      "needs_background": "light"
     },
     "output_type": "display_data"
    },
    {
     "data": {
      "image/png": "[encoded data removed]",
      "text/plain": [
       "<Figure size 432x288 with 1 Axes>"
      ]
     },
     "metadata": {
      "needs_background": "light"
     },
     "output_type": "display_data"
    },
    {
     "data": {
      "image/png": "[encoded data removed]",
      "text/plain": [
       "<Figure size 432x288 with 1 Axes>"
      ]
     },
     "metadata": {
      "needs_background": "light"
     },
     "output_type": "display_data"
    },
    {
     "data": {
      "image/png": "[encoded data removed]",
      "text/plain": [
       "<Figure size 1080x720 with 4 Axes>"
      ]
     },
     "metadata": {
      "needs_background": "light"
     },
     "output_type": "display_data"
    }
   ],
   "source": [
    "#classificando as variaveis\n",
    "'Condo = Quantitativa'\n",
    "'Size = Quantitativo'\n",
    "'Rooms = Quantitativo'\n",
    "'Toilets = Quantitativo'\n",
    "'Suites = Quantitativo'\n",
    "'Parking = Quantitativo'\n",
    "'Elevator = Qualitativo'\n",
    "'Furnished = Qualitativo'\n",
    "'Swimming Pool = Qualitativo'\n",
    "'New = Qualitativo'\n",
    "'Price = Quantitativo'\n",
    "\n",
    "'---------------------------------------------------------------------------------------------------------------------------'\n",
    "#graficos\n",
    "\n",
    "\n",
    "#condo_price\n",
    "condo_price=rent_data.loc[:, ['Price', 'Condo']]            #fazer um dataset apenas com os dados Price e condo\n",
    "condo_price.plot.scatter(x='Condo', y='Price', grid=True, title='Análise descritiva Condo', alpha=0.5, logy=True);  #cria um scatter plot\n",
    "\n",
    "#size_price\n",
    "size_price=rent_data.loc[:, ['Price', 'Size']]              #faqzer um dataset apenas com os dados Price e size\n",
    "size_price.plot.scatter(x='Size', y='Price', title='Análise descritiva Size', alpha=0.5, logy=True);    #cria um scatter plot\n",
    "\n",
    "#rooms_price\n",
    "rooms_price=rent_data.loc[:, ['Price', 'Rooms']]            #faqzer um dataset apenas com os dados Price e Rooms\n",
    "rooms_price.plot.scatter(x='Rooms', y='Price', title='Análise descritiva Rooms', alpha=0.5, logy=True);  #cria um scatter plot\n",
    "\n",
    "#toilets_price\n",
    "toilets_price=rent_data.loc[:, ['Price', 'Toilets']]        #faqzer um dataset apenas com os dados Price e Toilets\n",
    "toilets_price.plot.scatter(x='Toilets', y='Price', title='Análise descritiva Toilets', alpha=0.5, logy=True); #cria um scatter plot\n",
    "\n",
    "#suites_price\n",
    "suites_price=rent_data.loc[:, ['Price', 'Suites']]          #faqzer um dataset apenas com os dados Price e Suits\n",
    "suites_price.plot.scatter(x='Suites', y='Price', title='Análise descritiva Suites', alpha=0.5, logy=True);#cria um scatter plot\n",
    "\n",
    "#parking_price\n",
    "parking_price=rent_data.loc[:, ['Price', 'Parking']]        #faqzer um dataset apenas com os dados Price e Parking\n",
    "parking_price.plot.scatter(x='Parking', y='Price', title='Análise descritiva Parking', alpha=0.5, logy=True); #cria um scatter plot\n",
    "\n",
    "# #elevator_price\n",
    "# elevator_price=rent_data.loc[:, ['Price', 'Elevator']]\n",
    "# elevator_price1=pd.crosstab(elevator_price['Price'], elevator_price['Elevator'])\n",
    "# ax=elevator_price1.plot.hist(alpha=0.5);\n",
    "\n",
    "# #furnished_price\n",
    "# furnished_price=rent_data.loc[:, ['Price', 'Furnished']]\n",
    "# furnished_price1=pd.crosstab(furnished_price['Price'], furnished_price['Furnished'])\n",
    "# ax=furnished_price1.plot.hist(alpha=0.5);\n",
    "\n",
    "plt.figure(figsize=(15,10)) #cria uma figura para plotar os graficos da maneira mais organizada\n",
    "cmap = plt.get_cmap('jet') #palheta de cor\n",
    "#elevator_price\n",
    "elevator_filter = rent_data.loc[rent_data['Elevator'] == 0, 'Price'] #cria um filtro apenas para dados de apartamentos que nao tem elevador\n",
    "elevator_filter1 = rent_data.loc[rent_data['Elevator'] == 1, 'Price'] #cria um filtro apenas para dados de apartamentos que tem elevador\n",
    "plt.subplot(221) #escolhe em qual parte da figura crianda enteriormente este grafico sera plotado\n",
    "#legendas\n",
    "plt.title('Análise descritiva Elevator')\n",
    "elevator_1 = [Rectangle((0,0),1,1,color=c,ec=\"k\") for c in [cmap(0.25) ,cmap(0.8)]] #cria um retangulo para colocar as legendas e escolhe as cores das legendas\n",
    "elevator_2= [\"s/ elevador\",\"c/ elevador\"] #define o que sera escrito nas legendas\n",
    "plt.legend(elevator_1, elevator_2) #cria as lendas\n",
    "'as duaas linhas abaixo criam um grafico com os histogramas dos dados com e sem elevador'\n",
    "plt.hist(elevator_filter)\n",
    "plt.hist(elevator_filter1)\n",
    "\n",
    "#furnished_price\n",
    "furnished_filter = rent_data.loc[rent_data['Furnished'] == 0, 'Price'] #cria um filtro apenas para dados de apartamentos que nao tem mobilia\n",
    "furnished_filter1 = rent_data.loc[rent_data['Furnished'] == 1, 'Price'] #cria um filtro apenas para dados de apartamentos que tem mobilia\n",
    "plt.subplot(222) #escolhe em qual parte da figura crianda enteriormente este grafico sera plotado\n",
    "#legendas\n",
    "plt.title('Análise descritiva Furnished')\n",
    "furnished_1 = [Rectangle((0,0),1,1,color=c,ec=\"k\") for c in [cmap(0.25) ,cmap(0.8)]] #cria um retangulo para colocar as legendas e escolhe as cores das legendas\n",
    "furnished_2= [\"s/ mobilia\",\"c/ mobilia\"] #define o que sera escrito nas legendas\n",
    "plt.legend(furnished_1, furnished_2) #cria as lendas\n",
    "'as duaas linhas abaixo criam um grafico com os histogramas dos dados com e sem movilia'\n",
    "plt.hist(furnished_filter)\n",
    "plt.hist(furnished_filter1)\n",
    "\n",
    "#swimmingpool_price\n",
    "swimmingpool_filter = rent_data.loc[rent_data['Swimming Pool'] == 0, 'Price'] #cria um filtro apenas para dados de apartamentos que nao tem piscina\n",
    "swimmingpool_filter1 = rent_data.loc[rent_data['Swimming Pool'] == 1, 'Price'] #cria um filtro apenas para dados de apartamentos que tem piscina\n",
    "plt.subplot(223) #escolhe em qual parte da figura crianda enteriormente este grafico sera plotado\n",
    "#legendas\n",
    "plt.title('Análise descritiva Piscina')\n",
    "piscina_1 = [Rectangle((0,0),1,1,color=c,ec=\"k\") for c in [cmap(0.25) ,cmap(0.8)]] #cria um retangulo para colocar as legendas e escolhe as cores das legendas\n",
    "piscina_2= [\"s/ piscina\",\"c/ piscina\"] #define o que sera escrito nas legendas\n",
    "plt.legend(piscina_1, piscina_2) #cria as lendas\n",
    "'as duaas linhas abaixo criam um grafico com os histogramas dos dados com e sem piscina'\n",
    "plt.hist(swimmingpool_filter)\n",
    "plt.hist(swimmingpool_filter1)\n",
    "\n",
    "#new_price\n",
    "new_filter = rent_data.loc[rent_data['New'] == 0, 'Price'] #cria um filtro apenas para dados de apartamentos que nao sao novos\n",
    "new_filter1 = rent_data.loc[rent_data['New'] == 1, 'Price'] #cria um filtro apenas para dados de apartamentos novos\n",
    "plt.subplot(224) #escolhe em qual parte da figura crianda enteriormente este grafico sera plotado\n",
    "#legendas\n",
    "plt.title('Análise descritiva New')\n",
    "novo_1 = [Rectangle((0,0),1,1,color=c,ec=\"k\") for c in [cmap(0.25) ,cmap(0.8)]] #cria um retangulo para colocar as legendas e escolhe as cores das legendas\n",
    "novo_2= [\"antigo\",\"novo\"] #define o que sera escrito nas legendas\n",
    "plt.legend(novo_1, novo_2) #cria as lendas\n",
    "'as duaas linhas abaixo criam um grafico com os histogramas dos dados de apaetamentos nao novos e novos'\n",
    "plt.hist(new_filter, density=False)\n",
    "plt.hist(new_filter1, density=False)"
   ]
  },
  {
   "cell_type": "markdown",
   "metadata": {},
   "source": [
    "###"
   ]
  },
  {
   "cell_type": "markdown",
   "metadata": {},
   "source": [
    "### 1.2 Reordenando os dados para ficarem em uma ordem mais legível"
   ]
  },
  {
   "cell_type": "code",
   "execution_count": 16,
   "metadata": {},
   "outputs": [
    {
     "data": {
      "text/html": [
       "<div>\n",
       "<style scoped>\n",
       "    .dataframe tbody tr th:only-of-type {\n",
       "        vertical-align: middle;\n",
       "    }\n",
       "\n",
       "    .dataframe tbody tr th {\n",
       "        vertical-align: top;\n",
       "    }\n",
       "\n",
       "    .dataframe thead th {\n",
       "        text-align: right;\n",
       "    }\n",
       "</style>\n",
       "<table border=\"1\" class=\"dataframe\">\n",
       "  <thead>\n",
       "    <tr style=\"text-align: right;\">\n",
       "      <th></th>\n",
       "      <th>Condo</th>\n",
       "      <th>Size</th>\n",
       "      <th>Rooms</th>\n",
       "      <th>Toilets</th>\n",
       "      <th>Suites</th>\n",
       "      <th>Parking</th>\n",
       "      <th>Elevator</th>\n",
       "      <th>Furnished</th>\n",
       "      <th>Swimming Pool</th>\n",
       "      <th>New</th>\n",
       "      <th>Price</th>\n",
       "    </tr>\n",
       "  </thead>\n",
       "  <tbody>\n",
       "    <tr>\n",
       "      <th>10993</th>\n",
       "      <td>0</td>\n",
       "      <td>50</td>\n",
       "      <td>2</td>\n",
       "      <td>1</td>\n",
       "      <td>0</td>\n",
       "      <td>1</td>\n",
       "      <td>1</td>\n",
       "      <td>0</td>\n",
       "      <td>0</td>\n",
       "      <td>0</td>\n",
       "      <td>1600</td>\n",
       "    </tr>\n",
       "    <tr>\n",
       "      <th>456</th>\n",
       "      <td>0</td>\n",
       "      <td>60</td>\n",
       "      <td>2</td>\n",
       "      <td>2</td>\n",
       "      <td>1</td>\n",
       "      <td>1</td>\n",
       "      <td>0</td>\n",
       "      <td>0</td>\n",
       "      <td>0</td>\n",
       "      <td>0</td>\n",
       "      <td>1550</td>\n",
       "    </tr>\n",
       "    <tr>\n",
       "      <th>3563</th>\n",
       "      <td>0</td>\n",
       "      <td>130</td>\n",
       "      <td>3</td>\n",
       "      <td>4</td>\n",
       "      <td>3</td>\n",
       "      <td>3</td>\n",
       "      <td>0</td>\n",
       "      <td>0</td>\n",
       "      <td>1</td>\n",
       "      <td>0</td>\n",
       "      <td>3000</td>\n",
       "    </tr>\n",
       "    <tr>\n",
       "      <th>2872</th>\n",
       "      <td>0</td>\n",
       "      <td>40</td>\n",
       "      <td>1</td>\n",
       "      <td>1</td>\n",
       "      <td>0</td>\n",
       "      <td>0</td>\n",
       "      <td>0</td>\n",
       "      <td>0</td>\n",
       "      <td>0</td>\n",
       "      <td>0</td>\n",
       "      <td>1100</td>\n",
       "    </tr>\n",
       "    <tr>\n",
       "      <th>4783</th>\n",
       "      <td>0</td>\n",
       "      <td>54</td>\n",
       "      <td>2</td>\n",
       "      <td>1</td>\n",
       "      <td>0</td>\n",
       "      <td>0</td>\n",
       "      <td>0</td>\n",
       "      <td>0</td>\n",
       "      <td>0</td>\n",
       "      <td>0</td>\n",
       "      <td>1300</td>\n",
       "    </tr>\n",
       "    <tr>\n",
       "      <th>...</th>\n",
       "      <td>...</td>\n",
       "      <td>...</td>\n",
       "      <td>...</td>\n",
       "      <td>...</td>\n",
       "      <td>...</td>\n",
       "      <td>...</td>\n",
       "      <td>...</td>\n",
       "      <td>...</td>\n",
       "      <td>...</td>\n",
       "      <td>...</td>\n",
       "      <td>...</td>\n",
       "    </tr>\n",
       "    <tr>\n",
       "      <th>10347</th>\n",
       "      <td>7928</td>\n",
       "      <td>340</td>\n",
       "      <td>3</td>\n",
       "      <td>4</td>\n",
       "      <td>3</td>\n",
       "      <td>5</td>\n",
       "      <td>0</td>\n",
       "      <td>0</td>\n",
       "      <td>1</td>\n",
       "      <td>0</td>\n",
       "      <td>15000</td>\n",
       "    </tr>\n",
       "    <tr>\n",
       "      <th>4269</th>\n",
       "      <td>8000</td>\n",
       "      <td>452</td>\n",
       "      <td>4</td>\n",
       "      <td>5</td>\n",
       "      <td>4</td>\n",
       "      <td>6</td>\n",
       "      <td>0</td>\n",
       "      <td>0</td>\n",
       "      <td>0</td>\n",
       "      <td>0</td>\n",
       "      <td>15000</td>\n",
       "    </tr>\n",
       "    <tr>\n",
       "      <th>10669</th>\n",
       "      <td>8800</td>\n",
       "      <td>640</td>\n",
       "      <td>4</td>\n",
       "      <td>5</td>\n",
       "      <td>4</td>\n",
       "      <td>5</td>\n",
       "      <td>0</td>\n",
       "      <td>1</td>\n",
       "      <td>1</td>\n",
       "      <td>0</td>\n",
       "      <td>30000</td>\n",
       "    </tr>\n",
       "    <tr>\n",
       "      <th>10684</th>\n",
       "      <td>8860</td>\n",
       "      <td>414</td>\n",
       "      <td>4</td>\n",
       "      <td>5</td>\n",
       "      <td>4</td>\n",
       "      <td>4</td>\n",
       "      <td>0</td>\n",
       "      <td>0</td>\n",
       "      <td>1</td>\n",
       "      <td>0</td>\n",
       "      <td>8000</td>\n",
       "    </tr>\n",
       "    <tr>\n",
       "      <th>4228</th>\n",
       "      <td>9500</td>\n",
       "      <td>452</td>\n",
       "      <td>4</td>\n",
       "      <td>3</td>\n",
       "      <td>2</td>\n",
       "      <td>4</td>\n",
       "      <td>1</td>\n",
       "      <td>0</td>\n",
       "      <td>1</td>\n",
       "      <td>0</td>\n",
       "      <td>10000</td>\n",
       "    </tr>\n",
       "  </tbody>\n",
       "</table>\n",
       "<p>7228 rows × 11 columns</p>\n",
       "</div>"
      ],
      "text/plain": [
       "       Condo  Size  Rooms  Toilets  Suites  Parking  Elevator  Furnished  \\\n",
       "10993      0    50      2        1       0        1         1          0   \n",
       "456        0    60      2        2       1        1         0          0   \n",
       "3563       0   130      3        4       3        3         0          0   \n",
       "2872       0    40      1        1       0        0         0          0   \n",
       "4783       0    54      2        1       0        0         0          0   \n",
       "...      ...   ...    ...      ...     ...      ...       ...        ...   \n",
       "10347   7928   340      3        4       3        5         0          0   \n",
       "4269    8000   452      4        5       4        6         0          0   \n",
       "10669   8800   640      4        5       4        5         0          1   \n",
       "10684   8860   414      4        5       4        4         0          0   \n",
       "4228    9500   452      4        3       2        4         1          0   \n",
       "\n",
       "       Swimming Pool  New  Price  \n",
       "10993              0    0   1600  \n",
       "456                0    0   1550  \n",
       "3563               1    0   3000  \n",
       "2872               0    0   1100  \n",
       "4783               0    0   1300  \n",
       "...              ...  ...    ...  \n",
       "10347              1    0  15000  \n",
       "4269               0    0  15000  \n",
       "10669              1    0  30000  \n",
       "10684              1    0   8000  \n",
       "4228               1    0  10000  \n",
       "\n",
       "[7228 rows x 11 columns]"
      ]
     },
     "execution_count": 16,
     "metadata": {},
     "output_type": "execute_result"
    }
   ],
   "source": [
    "# DataFrame com os dados relevantes\n",
    "relevant_data = rent_data.iloc[:, :-5]\n",
    "relevant_data = relevant_data.loc[:, ['Condo', 'Size', 'Rooms', 'Toilets', 'Suites', 'Parking', 'Elevator', 'Furnished', 'Swimming Pool', 'New', 'Price']]\n",
    "relevant_data.sort_values(['Condo'], ascending=True)"
   ]
  },
  {
   "cell_type": "markdown",
   "metadata": {},
   "source": [
    "## 2. Preprocessamento de dados"
   ]
  },
  {
   "cell_type": "code",
   "execution_count": 10,
   "metadata": {},
   "outputs": [],
   "source": [
    "# Transformando int em float para auxiliar no dimensionamento de recursos\n",
    "for i in relevant_data.keys():\n",
    "    relevant_data[i] = relevant_data[i].astype(float)"
   ]
  },
  {
   "cell_type": "code",
   "execution_count": 28,
   "metadata": {},
   "outputs": [],
   "source": [
    "X = relevant_data.iloc[:, :-1].values # Separando as variáveis independentes\n",
    "Y = relevant_data.iloc[:, -1].values # Separando a variável dependente"
   ]
  },
  {
   "cell_type": "markdown",
   "metadata": {},
   "source": [
    "### 2.1 Separando os dados em Treino e Teste"
   ]
  },
  {
   "cell_type": "code",
   "execution_count": 29,
   "metadata": {},
   "outputs": [],
   "source": [
    "# Separando os dados em Treino e Teste\n",
    "from sklearn.model_selection import train_test_split\n",
    "X_train, X_test, Y_train, Y_test = train_test_split(X, Y, test_size=0.2)"
   ]
  },
  {
   "cell_type": "markdown",
   "metadata": {},
   "source": [
    "### 2.2 Dimensionamento de recursos"
   ]
  },
  {
   "cell_type": "code",
   "execution_count": 30,
   "metadata": {},
   "outputs": [],
   "source": [
    "# Dimensionamento de recursos\n",
    "from sklearn.preprocessing import StandardScaler\n",
    "sc = StandardScaler()\n",
    "X_train[:, :5] = sc.fit_transform(X_train[:, :5])\n",
    "X_test[:, :5] = sc.transform(X_test[:, :5])"
   ]
  },
  {
   "cell_type": "markdown",
   "metadata": {},
   "source": [
    "# Regressões"
   ]
  },
  {
   "cell_type": "markdown",
   "metadata": {},
   "source": [
    "## 3. Regressão por Árvore de Decisão"
   ]
  },
  {
   "cell_type": "code",
   "execution_count": 31,
   "metadata": {},
   "outputs": [
    {
     "data": {
      "text/plain": [
       "DecisionTreeRegressor()"
      ]
     },
     "execution_count": 31,
     "metadata": {},
     "output_type": "execute_result"
    }
   ],
   "source": [
    "# Aplicar o Decision Tree Regressor\n",
    "from sklearn.tree import DecisionTreeRegressor\n",
    "regressor = DecisionTreeRegressor()\n",
    "regressor.fit(X_train, Y_train)"
   ]
  },
  {
   "cell_type": "code",
   "execution_count": 32,
   "metadata": {
    "scrolled": true
   },
   "outputs": [
    {
     "name": "stdout",
     "output_type": "stream",
     "text": [
      "[[2900. 2900.]\n",
      " [1550. 1700.]\n",
      " [1250. 1500.]\n",
      " ...\n",
      " [ 950. 1700.]\n",
      " [1380. 1800.]\n",
      " [3000. 2300.]]\n"
     ]
    }
   ],
   "source": [
    "Y_pred = regressor.predict(X_test)\n",
    "np.set_printoptions(precision=2)\n",
    "print(np.concatenate((Y_pred.reshape(len(Y_pred),1), Y_test.reshape(len(Y_test),1)),1))"
   ]
  },
  {
   "cell_type": "markdown",
   "metadata": {},
   "source": [
    "### 3.1 Precisão por R²"
   ]
  },
  {
   "cell_type": "code",
   "execution_count": 33,
   "metadata": {},
   "outputs": [
    {
     "data": {
      "text/plain": [
       "0.3292321964143772"
      ]
     },
     "execution_count": 33,
     "metadata": {},
     "output_type": "execute_result"
    }
   ],
   "source": [
    "from sklearn.metrics import r2_score\n",
    "r2_score(Y_test, Y_pred)"
   ]
  },
  {
   "cell_type": "markdown",
   "metadata": {},
   "source": [
    "### 3.2 Plotagem de gráfico para visualizar a precisão"
   ]
  },
  {
   "cell_type": "code",
   "execution_count": 34,
   "metadata": {
    "scrolled": false
   },
   "outputs": [],
   "source": [
    "# Pensar em como fazer"
   ]
  },
  {
   "cell_type": "markdown",
   "metadata": {},
   "source": [
    "## 4. Regressão linear simples"
   ]
  },
  {
   "cell_type": "code",
   "execution_count": 35,
   "metadata": {},
   "outputs": [
    {
     "data": {
      "text/plain": [
       "LinearRegression()"
      ]
     },
     "execution_count": 35,
     "metadata": {},
     "output_type": "execute_result"
    }
   ],
   "source": [
    "from sklearn.linear_model import LinearRegression\n",
    "regressor = LinearRegression()\n",
    "regressor.fit(X_train, Y_train)"
   ]
  },
  {
   "cell_type": "code",
   "execution_count": 36,
   "metadata": {},
   "outputs": [
    {
     "name": "stdout",
     "output_type": "stream",
     "text": [
      "[[2957.22 2900.  ]\n",
      " [ 804.26 1700.  ]\n",
      " [1742.12 1500.  ]\n",
      " ...\n",
      " [1274.44 1700.  ]\n",
      " [1230.24 1800.  ]\n",
      " [3230.13 2300.  ]]\n"
     ]
    }
   ],
   "source": [
    "Y_pred = regressor.predict(X_test)\n",
    "print(np.concatenate((Y_pred.reshape(len(Y_pred),1), Y_test.reshape(len(Y_test),1)),1))"
   ]
  },
  {
   "cell_type": "markdown",
   "metadata": {},
   "source": [
    "### 4.1 Precisão por R²"
   ]
  },
  {
   "cell_type": "code",
   "execution_count": 37,
   "metadata": {},
   "outputs": [
    {
     "data": {
      "text/plain": [
       "0.6332378333401154"
      ]
     },
     "execution_count": 37,
     "metadata": {},
     "output_type": "execute_result"
    }
   ],
   "source": [
    "from sklearn.metrics import r2_score\n",
    "r2_score(Y_test, Y_pred)"
   ]
  },
  {
   "cell_type": "markdown",
   "metadata": {},
   "source": [
    "### 4.2 Plotagem de gráfico para visualizar precisão"
   ]
  },
  {
   "cell_type": "code",
   "execution_count": 38,
   "metadata": {},
   "outputs": [],
   "source": [
    "# Pensar em como fazer"
   ]
  },
  {
   "cell_type": "markdown",
   "metadata": {},
   "source": [
    "## 5. Regressão por Vetores de Suporte"
   ]
  },
  {
   "cell_type": "code",
   "execution_count": 39,
   "metadata": {},
   "outputs": [
    {
     "data": {
      "text/plain": [
       "SVR()"
      ]
     },
     "execution_count": 39,
     "metadata": {},
     "output_type": "execute_result"
    }
   ],
   "source": [
    "from sklearn.svm import SVR\n",
    "regressor = SVR(kernel='rbf')\n",
    "regressor.fit(X_train, Y_train)"
   ]
  },
  {
   "cell_type": "code",
   "execution_count": 40,
   "metadata": {},
   "outputs": [
    {
     "name": "stdout",
     "output_type": "stream",
     "text": [
      "[[2147.31 2900.  ]\n",
      " [1848.21 1700.  ]\n",
      " [1727.93 1500.  ]\n",
      " ...\n",
      " [1678.05 1700.  ]\n",
      " [1894.79 1800.  ]\n",
      " [2210.29 2300.  ]]\n"
     ]
    }
   ],
   "source": [
    "Y_pred = regressor.predict(X_test)\n",
    "print(np.concatenate((Y_pred.reshape(len(Y_pred),1), Y_test.reshape(len(Y_test),1)),1))"
   ]
  },
  {
   "cell_type": "markdown",
   "metadata": {},
   "source": [
    "### 5.1 Precisão por R²"
   ]
  },
  {
   "cell_type": "code",
   "execution_count": 41,
   "metadata": {},
   "outputs": [
    {
     "data": {
      "text/plain": [
       "0.02020745369028709"
      ]
     },
     "execution_count": 41,
     "metadata": {},
     "output_type": "execute_result"
    }
   ],
   "source": [
    "from sklearn.metrics import r2_score\n",
    "r2_score(Y_test, Y_pred)"
   ]
  },
  {
   "cell_type": "markdown",
   "metadata": {},
   "source": [
    "### 5.2 Plotagem de gráfico para visualização"
   ]
  },
  {
   "cell_type": "code",
   "execution_count": 42,
   "metadata": {},
   "outputs": [],
   "source": [
    "# Pensar em como fazer"
   ]
  },
  {
   "cell_type": "markdown",
   "metadata": {},
   "source": [
    "## 6. Regressão por Floresta Aleatória"
   ]
  },
  {
   "cell_type": "code",
   "execution_count": 43,
   "metadata": {},
   "outputs": [
    {
     "data": {
      "text/plain": [
       "RandomForestRegressor()"
      ]
     },
     "execution_count": 43,
     "metadata": {},
     "output_type": "execute_result"
    }
   ],
   "source": [
    "from sklearn.ensemble import RandomForestRegressor\n",
    "regressor = RandomForestRegressor()\n",
    "regressor.fit(X_train, Y_train)"
   ]
  },
  {
   "cell_type": "code",
   "execution_count": 44,
   "metadata": {
    "scrolled": false
   },
   "outputs": [
    {
     "name": "stdout",
     "output_type": "stream",
     "text": [
      "[[2893.58 2900.  ]\n",
      " [1374.97 1700.  ]\n",
      " [1301.1  1500.  ]\n",
      " ...\n",
      " [1084.53 1700.  ]\n",
      " [1570.95 1800.  ]\n",
      " [3005.66 2300.  ]]\n"
     ]
    }
   ],
   "source": [
    "Y_pred = regressor.predict(X_test)\n",
    "print(np.concatenate((Y_pred.reshape(len(Y_pred),1), Y_test.reshape(len(Y_test),1)),1))"
   ]
  },
  {
   "cell_type": "markdown",
   "metadata": {},
   "source": [
    "### 6.1 Precisão por R²"
   ]
  },
  {
   "cell_type": "code",
   "execution_count": 45,
   "metadata": {},
   "outputs": [
    {
     "data": {
      "text/plain": [
       "0.6614735040317195"
      ]
     },
     "execution_count": 45,
     "metadata": {},
     "output_type": "execute_result"
    }
   ],
   "source": [
    "from sklearn.metrics import r2_score\n",
    "r2_score(Y_test, Y_pred)"
   ]
  },
  {
   "cell_type": "markdown",
   "metadata": {},
   "source": [
    "### 6.2 Plotagem de gráfico para visualização"
   ]
  },
  {
   "cell_type": "code",
   "execution_count": null,
   "metadata": {},
   "outputs": [],
   "source": []
  }
 ],
 "metadata": {
  "kernelspec": {
   "display_name": "Python 3",
   "language": "python",
   "name": "python3"
  },
  "language_info": {
   "codemirror_mode": {
    "name": "ipython",
    "version": 3
   },
   "file_extension": ".py",
   "mimetype": "text/x-python",
   "name": "python",
   "nbconvert_exporter": "python",
   "pygments_lexer": "ipython3",
   "version": "3.8.5"
  }
 },
 "nbformat": 4,
 "nbformat_minor": 4
}
