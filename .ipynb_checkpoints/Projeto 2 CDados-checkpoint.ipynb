{
 "cells": [
  {
   "cell_type": "markdown",
   "metadata": {},
   "source": [
    "# Projeto 2 Ciência dos Dados - Engenharia Insper 2021.1\n",
    "## Integrantes: Rafael Pascarelli Nicheri e Vinícius Matheus Morales\n",
    "____________________________________________________________________________________________________________________________\n",
    "## Objetivo:\n",
    "### - Com esse projeto pretendemos prever o valor do aluguel de um determinado imóvel com base nos seguintes dados:\n",
    "- Tamanho do terreno em m²;\n",
    "- Quantidade de quartos;\n",
    "- Quantidade de banheiros;\n",
    "- Quantidade de suítes;\n",
    "- Quantidade de vagas de carro;\n",
    "- Se possui elevador;\n",
    "- Se possui mobília;\n",
    "- Se possui piscina;\n",
    "- Se é uma construção nova;\n",
    "- Região da cidade de São Paulo onde o imóvel se encontra.\n",
    "\n",
    "#### Esse projeto poderá ajudar, por exemplo, uma corretora de imóveis a calcular o valor de aluguel de imóveis sem que precise de nada além dos dados do imóvel, que pode também ser obtido por meio de Web Scraping, automatizando ainda mais o processo futuramente"
   ]
  },
  {
   "cell_type": "markdown",
   "metadata": {},
   "source": [
    "## 1. Importando as bibliotecas que serão utilizadas no projeto e lendo o Dataset que será utilizado para as previsões"
   ]
  },
  {
   "cell_type": "code",
   "execution_count": 1,
   "metadata": {},
   "outputs": [],
   "source": [
    "import pandas as pd\n",
    "import numpy as np\n",
    "import matplotlib.pyplot as plt\n",
    "from matplotlib.patches import Rectangle"
   ]
  },
  {
   "cell_type": "code",
   "execution_count": 2,
   "metadata": {},
   "outputs": [],
   "source": [
    "data = pd.read_csv('sao-paulo-properties-april-2019.csv')  #ler uma base de dados no formato csv"
   ]
  },
  {
   "cell_type": "markdown",
   "metadata": {},
   "source": [
    "### 1.1 Filtrando o Dataset em um DataFrame que contenha apenas os aluguéis e exclua as vendas"
   ]
  },
  {
   "cell_type": "code",
   "execution_count": 3,
   "metadata": {
    "scrolled": false
   },
   "outputs": [
    {
     "data": {
      "text/html": [
       "<div>\n",
       "<style scoped>\n",
       "    .dataframe tbody tr th:only-of-type {\n",
       "        vertical-align: middle;\n",
       "    }\n",
       "\n",
       "    .dataframe tbody tr th {\n",
       "        vertical-align: top;\n",
       "    }\n",
       "\n",
       "    .dataframe thead th {\n",
       "        text-align: right;\n",
       "    }\n",
       "</style>\n",
       "<table border=\"1\" class=\"dataframe\">\n",
       "  <thead>\n",
       "    <tr style=\"text-align: right;\">\n",
       "      <th></th>\n",
       "      <th>Price</th>\n",
       "      <th>Condo</th>\n",
       "      <th>Size</th>\n",
       "      <th>Rooms</th>\n",
       "      <th>Toilets</th>\n",
       "      <th>Suites</th>\n",
       "      <th>Parking</th>\n",
       "      <th>Elevator</th>\n",
       "      <th>Furnished</th>\n",
       "      <th>Swimming Pool</th>\n",
       "      <th>New</th>\n",
       "      <th>District</th>\n",
       "      <th>Negotiation Type</th>\n",
       "      <th>Property Type</th>\n",
       "      <th>Latitude</th>\n",
       "      <th>Longitude</th>\n",
       "    </tr>\n",
       "  </thead>\n",
       "  <tbody>\n",
       "    <tr>\n",
       "      <th>0</th>\n",
       "      <td>930</td>\n",
       "      <td>220</td>\n",
       "      <td>47</td>\n",
       "      <td>2</td>\n",
       "      <td>2</td>\n",
       "      <td>1</td>\n",
       "      <td>1</td>\n",
       "      <td>0</td>\n",
       "      <td>0</td>\n",
       "      <td>0</td>\n",
       "      <td>0</td>\n",
       "      <td>Artur Alvim/São Paulo</td>\n",
       "      <td>rent</td>\n",
       "      <td>apartment</td>\n",
       "      <td>-23.543138</td>\n",
       "      <td>-46.479486</td>\n",
       "    </tr>\n",
       "    <tr>\n",
       "      <th>1</th>\n",
       "      <td>1000</td>\n",
       "      <td>148</td>\n",
       "      <td>45</td>\n",
       "      <td>2</td>\n",
       "      <td>2</td>\n",
       "      <td>1</td>\n",
       "      <td>1</td>\n",
       "      <td>0</td>\n",
       "      <td>0</td>\n",
       "      <td>0</td>\n",
       "      <td>0</td>\n",
       "      <td>Artur Alvim/São Paulo</td>\n",
       "      <td>rent</td>\n",
       "      <td>apartment</td>\n",
       "      <td>-23.550239</td>\n",
       "      <td>-46.480718</td>\n",
       "    </tr>\n",
       "    <tr>\n",
       "      <th>2</th>\n",
       "      <td>1000</td>\n",
       "      <td>100</td>\n",
       "      <td>48</td>\n",
       "      <td>2</td>\n",
       "      <td>2</td>\n",
       "      <td>1</td>\n",
       "      <td>1</td>\n",
       "      <td>0</td>\n",
       "      <td>0</td>\n",
       "      <td>0</td>\n",
       "      <td>0</td>\n",
       "      <td>Artur Alvim/São Paulo</td>\n",
       "      <td>rent</td>\n",
       "      <td>apartment</td>\n",
       "      <td>-23.542818</td>\n",
       "      <td>-46.485665</td>\n",
       "    </tr>\n",
       "    <tr>\n",
       "      <th>3</th>\n",
       "      <td>1000</td>\n",
       "      <td>200</td>\n",
       "      <td>48</td>\n",
       "      <td>2</td>\n",
       "      <td>2</td>\n",
       "      <td>1</td>\n",
       "      <td>1</td>\n",
       "      <td>0</td>\n",
       "      <td>0</td>\n",
       "      <td>0</td>\n",
       "      <td>0</td>\n",
       "      <td>Artur Alvim/São Paulo</td>\n",
       "      <td>rent</td>\n",
       "      <td>apartment</td>\n",
       "      <td>-23.547171</td>\n",
       "      <td>-46.483014</td>\n",
       "    </tr>\n",
       "    <tr>\n",
       "      <th>4</th>\n",
       "      <td>1300</td>\n",
       "      <td>410</td>\n",
       "      <td>55</td>\n",
       "      <td>2</td>\n",
       "      <td>2</td>\n",
       "      <td>1</td>\n",
       "      <td>1</td>\n",
       "      <td>1</td>\n",
       "      <td>0</td>\n",
       "      <td>0</td>\n",
       "      <td>0</td>\n",
       "      <td>Artur Alvim/São Paulo</td>\n",
       "      <td>rent</td>\n",
       "      <td>apartment</td>\n",
       "      <td>-23.525025</td>\n",
       "      <td>-46.482436</td>\n",
       "    </tr>\n",
       "    <tr>\n",
       "      <th>...</th>\n",
       "      <td>...</td>\n",
       "      <td>...</td>\n",
       "      <td>...</td>\n",
       "      <td>...</td>\n",
       "      <td>...</td>\n",
       "      <td>...</td>\n",
       "      <td>...</td>\n",
       "      <td>...</td>\n",
       "      <td>...</td>\n",
       "      <td>...</td>\n",
       "      <td>...</td>\n",
       "      <td>...</td>\n",
       "      <td>...</td>\n",
       "      <td>...</td>\n",
       "      <td>...</td>\n",
       "      <td>...</td>\n",
       "    </tr>\n",
       "    <tr>\n",
       "      <th>11205</th>\n",
       "      <td>3700</td>\n",
       "      <td>595</td>\n",
       "      <td>73</td>\n",
       "      <td>1</td>\n",
       "      <td>2</td>\n",
       "      <td>1</td>\n",
       "      <td>1</td>\n",
       "      <td>0</td>\n",
       "      <td>0</td>\n",
       "      <td>1</td>\n",
       "      <td>0</td>\n",
       "      <td>Brooklin/São Paulo</td>\n",
       "      <td>rent</td>\n",
       "      <td>apartment</td>\n",
       "      <td>-23.617682</td>\n",
       "      <td>-46.694963</td>\n",
       "    </tr>\n",
       "    <tr>\n",
       "      <th>11206</th>\n",
       "      <td>21000</td>\n",
       "      <td>3000</td>\n",
       "      <td>208</td>\n",
       "      <td>4</td>\n",
       "      <td>4</td>\n",
       "      <td>3</td>\n",
       "      <td>3</td>\n",
       "      <td>1</td>\n",
       "      <td>1</td>\n",
       "      <td>1</td>\n",
       "      <td>0</td>\n",
       "      <td>Brooklin/São Paulo</td>\n",
       "      <td>rent</td>\n",
       "      <td>apartment</td>\n",
       "      <td>-23.606891</td>\n",
       "      <td>-46.695934</td>\n",
       "    </tr>\n",
       "    <tr>\n",
       "      <th>11207</th>\n",
       "      <td>3800</td>\n",
       "      <td>710</td>\n",
       "      <td>55</td>\n",
       "      <td>1</td>\n",
       "      <td>1</td>\n",
       "      <td>0</td>\n",
       "      <td>1</td>\n",
       "      <td>0</td>\n",
       "      <td>1</td>\n",
       "      <td>1</td>\n",
       "      <td>0</td>\n",
       "      <td>Brooklin/São Paulo</td>\n",
       "      <td>rent</td>\n",
       "      <td>apartment</td>\n",
       "      <td>0.000000</td>\n",
       "      <td>0.000000</td>\n",
       "    </tr>\n",
       "    <tr>\n",
       "      <th>11208</th>\n",
       "      <td>5000</td>\n",
       "      <td>2354</td>\n",
       "      <td>205</td>\n",
       "      <td>3</td>\n",
       "      <td>2</td>\n",
       "      <td>1</td>\n",
       "      <td>2</td>\n",
       "      <td>1</td>\n",
       "      <td>0</td>\n",
       "      <td>0</td>\n",
       "      <td>0</td>\n",
       "      <td>Brooklin/São Paulo</td>\n",
       "      <td>rent</td>\n",
       "      <td>apartment</td>\n",
       "      <td>-23.612287</td>\n",
       "      <td>-46.681482</td>\n",
       "    </tr>\n",
       "    <tr>\n",
       "      <th>11209</th>\n",
       "      <td>15600</td>\n",
       "      <td>2300</td>\n",
       "      <td>162</td>\n",
       "      <td>3</td>\n",
       "      <td>4</td>\n",
       "      <td>3</td>\n",
       "      <td>3</td>\n",
       "      <td>0</td>\n",
       "      <td>0</td>\n",
       "      <td>1</td>\n",
       "      <td>0</td>\n",
       "      <td>Brooklin/São Paulo</td>\n",
       "      <td>rent</td>\n",
       "      <td>apartment</td>\n",
       "      <td>-23.615823</td>\n",
       "      <td>-46.685404</td>\n",
       "    </tr>\n",
       "  </tbody>\n",
       "</table>\n",
       "<p>7228 rows × 16 columns</p>\n",
       "</div>"
      ],
      "text/plain": [
       "       Price  Condo  Size  Rooms  Toilets  Suites  Parking  Elevator  \\\n",
       "0        930    220    47      2        2       1        1         0   \n",
       "1       1000    148    45      2        2       1        1         0   \n",
       "2       1000    100    48      2        2       1        1         0   \n",
       "3       1000    200    48      2        2       1        1         0   \n",
       "4       1300    410    55      2        2       1        1         1   \n",
       "...      ...    ...   ...    ...      ...     ...      ...       ...   \n",
       "11205   3700    595    73      1        2       1        1         0   \n",
       "11206  21000   3000   208      4        4       3        3         1   \n",
       "11207   3800    710    55      1        1       0        1         0   \n",
       "11208   5000   2354   205      3        2       1        2         1   \n",
       "11209  15600   2300   162      3        4       3        3         0   \n",
       "\n",
       "       Furnished  Swimming Pool  New               District Negotiation Type  \\\n",
       "0              0              0    0  Artur Alvim/São Paulo             rent   \n",
       "1              0              0    0  Artur Alvim/São Paulo             rent   \n",
       "2              0              0    0  Artur Alvim/São Paulo             rent   \n",
       "3              0              0    0  Artur Alvim/São Paulo             rent   \n",
       "4              0              0    0  Artur Alvim/São Paulo             rent   \n",
       "...          ...            ...  ...                    ...              ...   \n",
       "11205          0              1    0     Brooklin/São Paulo             rent   \n",
       "11206          1              1    0     Brooklin/São Paulo             rent   \n",
       "11207          1              1    0     Brooklin/São Paulo             rent   \n",
       "11208          0              0    0     Brooklin/São Paulo             rent   \n",
       "11209          0              1    0     Brooklin/São Paulo             rent   \n",
       "\n",
       "      Property Type   Latitude  Longitude  \n",
       "0         apartment -23.543138 -46.479486  \n",
       "1         apartment -23.550239 -46.480718  \n",
       "2         apartment -23.542818 -46.485665  \n",
       "3         apartment -23.547171 -46.483014  \n",
       "4         apartment -23.525025 -46.482436  \n",
       "...             ...        ...        ...  \n",
       "11205     apartment -23.617682 -46.694963  \n",
       "11206     apartment -23.606891 -46.695934  \n",
       "11207     apartment   0.000000   0.000000  \n",
       "11208     apartment -23.612287 -46.681482  \n",
       "11209     apartment -23.615823 -46.685404  \n",
       "\n",
       "[7228 rows x 16 columns]"
      ]
     },
     "execution_count": 3,
     "metadata": {},
     "output_type": "execute_result"
    }
   ],
   "source": [
    "rent_filter = data['Negotiation Type'] == 'rent' # Filtro para usarmos apenas dados de aluguel\n",
    "rent_data = data.loc[rent_filter, :] # Aplicando o filtro para mostrar apenas dados de alugel\n",
    "rent_data # Mostrando a base de dados apemnas com dados do aluguel"
   ]
  },
  {
   "cell_type": "markdown",
   "metadata": {},
   "source": [
    "### 1.2 Classificação das variáveis:\n",
    "- Condo = Quantitativa\n",
    "- Size = Quantitativa\n",
    "- Rooms = Quantitativa\n",
    "- Toilets = Quantitativa\n",
    "- Suites = Quantitativa\n",
    "- Parking = Quantitativa\n",
    "- Latitude = Quantitativa\n",
    "- Longitude = Quantitativa\n",
    "\n",
    "\n",
    "- Negotiation Type = DESCARTADO (Todos são \"rent\", portanto não requer análise e não impacta no resultado)\n",
    "- Property Type = DESCARTADO (Todos são \"apartment\", portanto não requer análise e não impacta no resultado)\n",
    "\n",
    "\n",
    "- District = Qualitativa\n",
    "- Elevator = Qualitativa\n",
    "- Furnished = Qualitativa\n",
    "- Swimming Pool = Qualitativa\n",
    "- New = Qualitativa\n",
    "\n",
    "\n",
    "- Price = TARGET"
   ]
  },
  {
   "cell_type": "markdown",
   "metadata": {},
   "source": [
    "### 1.3 Cruzando dados das variáveis dependentes com a variável independente\n",
    "- Com o objetivo de observar o comportamento da variável target do projeto \"Preço\" com cada feature.\n",
    "- A variável target é uma variável do tipo quantitativa, portanto ao cruzar com outras variáveis quantitativas como \"Condo\", \"Size\", \"Rooms\", \"Toilets\", \"Suites\" e \"Parking\" iremos utilizar medidas de associação e gráfico de dispersão.\n",
    "- Ao cruzar as informações com variáveis qualitativas como \"Elevator\", \"Furnished\", \"Swimming Pool\" e \"New\" iremos usar medidas-resumo da variável quantitativa segmentando por rótulo da variável qualitativa e histogramas da variável quantitativa segmentando por rótulo da variável qualitativa."
   ]
  },
  {
   "cell_type": "code",
   "execution_count": 4,
   "metadata": {
    "scrolled": false
   },
   "outputs": [
    {
     "name": "stdout",
     "output_type": "stream",
     "text": [
      "Covariância Price x Condo:  2061689.3150625206\n",
      "Covariância Price x Size:  164930.612274315\n",
      "Covariância Price x Rooms:  1141.892448681154\n",
      "Covariância Price x Toilets:  2051.751557160249\n",
      "Covariância Price x Suites:  1832.662041724031\n",
      "Covariância Price x Parking:  2007.8863743376407\n",
      "Covariância Price x Latitude:  -775.823963507359\n",
      "Covariância Price x Longitude:  -1577.8058425817587\n",
      "\n",
      "\n",
      "Correlação Price x Condo:  0.7003605358604147\n",
      "Correlação Price x Size:  0.7317953445658479\n",
      "Correlação Price x Rooms:  0.3909508223219116\n",
      "Correlação Price x Toilets:  0.5834881828941935\n",
      "Correlação Price x Suites:  0.5883285003190463\n",
      "Correlação Price x Parking:  0.6407433847370166\n",
      "Correlação Price x Latitude:  -0.03693521358702288\n",
      "Correlação Price x Longitude:  -0.038362097396233565\n"
     ]
    },
    {
     "data": {
      "text/plain": [
       "<matplotlib.axes._subplots.AxesSubplot at 0x18e5e93b130>"
      ]
     },
     "execution_count": 4,
     "metadata": {},
     "output_type": "execute_result"
    },
    {
     "data": {
      "image/png": "[encoded data removed]",
      "text/plain": [
       "<Figure size 432x288 with 1 Axes>"
      ]
     },
     "metadata": {
      "needs_background": "light"
     },
     "output_type": "display_data"
    },
    {
     "data": {
      "image/png": "[encoded data removed]",
      "text/plain": [
       "<Figure size 432x288 with 1 Axes>"
      ]
     },
     "metadata": {
      "needs_background": "light"
     },
     "output_type": "display_data"
    },
    {
     "data": {
      "image/png": "[encoded data removed]",
      "text/plain": [
       "<Figure size 432x288 with 1 Axes>"
      ]
     },
     "metadata": {
      "needs_background": "light"
     },
     "output_type": "display_data"
    },
    {
     "data": {
      "image/png": "[encoded data removed]",
      "text/plain": [
       "<Figure size 432x288 with 1 Axes>"
      ]
     },
     "metadata": {
      "needs_background": "light"
     },
     "output_type": "display_data"
    },
    {
     "data": {
      "image/png": "[encoded data removed]",
      "text/plain": [
       "<Figure size 432x288 with 1 Axes>"
      ]
     },
     "metadata": {
      "needs_background": "light"
     },
     "output_type": "display_data"
    },
    {
     "data": {
      "image/png": "[encoded data removed]",
      "text/plain": [
       "<Figure size 432x288 with 1 Axes>"
      ]
     },
     "metadata": {
      "needs_background": "light"
     },
     "output_type": "display_data"
    },
    {
     "data": {
      "image/png": "[encoded data removed]",
      "text/plain": [
       "<Figure size 432x288 with 1 Axes>"
      ]
     },
     "metadata": {
      "needs_background": "light"
     },
     "output_type": "display_data"
    },
    {
     "data": {
      "image/png": "[encoded data removed]",
      "text/plain": [
       "<Figure size 432x288 with 1 Axes>"
      ]
     },
     "metadata": {
      "needs_background": "light"
     },
     "output_type": "display_data"
    }
   ],
   "source": [
    "# ===== MEDIDAS DE ASSOCIAÇÃO =====\n",
    "\n",
    "# ----- Análise descritiva entre preço de condomínio e o target\n",
    "variaveis = ['Condo', 'Size', 'Rooms', 'Toilets', 'Suites', 'Parking', 'Latitude', 'Longitude']\n",
    "\n",
    "for var in variaveis:\n",
    "    # Covariância entre o target e cada variável quantitativa\n",
    "    print('Covariância Price x {}: '.format(var), rent_data.Price.cov(rent_data[var]))\n",
    "\n",
    "print('\\n')\n",
    "for var in variaveis:\n",
    "    # Correlação entre o target e cada variável quantitativa\n",
    "    print('Correlação Price x {}: '.format(var), rent_data.Price.corr(rent_data[var]))\n",
    "\n",
    "\n",
    "# ===== GRÁFICOS DE DISPERSÃO =====\n",
    "\n",
    "# ----- Análise descritiva entre preço de condomínio e o target\n",
    "condo_price = rent_data.loc[:, ['Price', 'Condo']] # Fazer um DataFrame apenas com os dados Price e Condo\n",
    "condo_price.plot.scatter(x='Condo',\n",
    "                         y='Price',\n",
    "                         title='Condomínio x Aluguel',\n",
    "                         alpha=0.5,\n",
    "                         logy=True) # Cria um scatter plot com y em escala logarítimica\n",
    "\n",
    "# ----- Análise descritiva entre área e o target\n",
    "size_price = rent_data.loc[:, ['Price', 'Size']] # Fazer um DataFrame apenas com os dados Price e Size\n",
    "size_price.plot.scatter(x='Size',\n",
    "                        y='Price',\n",
    "                        title='Área x Aluguel',\n",
    "                        alpha=0.5,\n",
    "                        logy=True) # Cria um scatter plot com y em escala logarítimica\n",
    "\n",
    "# ----- Análise descritiva entre quantidade de quartos e o target\n",
    "rooms_price = rent_data.loc[:, ['Price', 'Rooms']] # Fazer um DataFrame apenas com os dados Price e Rooms\n",
    "rooms_price.plot.scatter(x='Rooms',\n",
    "                         y='Price',\n",
    "                         title='Quartos x Aluguel',\n",
    "                         alpha=0.5,\n",
    "                         logy=True) # Cria um scatter plot com y em escala logarítimica\n",
    "\n",
    "# ----- Análise descritiva entre quantidade de banheiros e o target\n",
    "toilets_price = rent_data.loc[:, ['Price', 'Toilets']] # Fazer um DataFrame apenas com os dados Price e Toilets\n",
    "toilets_price.plot.scatter(x='Toilets',\n",
    "                           y='Price',\n",
    "                           title='Banheiros x Aluguel',\n",
    "                           alpha=0.5,\n",
    "                           logy=True) # Cria um scatter plot com y em escala logarítimica\n",
    "\n",
    "# ----- Análise descritiva entre número de suites e o target\n",
    "suites_price = rent_data.loc[:, ['Price', 'Suites']] # Fazer um DataFrame apenas com os dados Price e Suits\n",
    "suites_price.plot.scatter(x='Suites',\n",
    "                          y='Price',\n",
    "                          title='Suites x Aluguel',\n",
    "                          alpha=0.5,\n",
    "                          logy=True) # Cria um scatter plot com y em escala logarítimica\n",
    "\n",
    "# ----- Análise descritiva entre vagas de automóvel e o target\n",
    "parking_price = rent_data.loc[:, ['Price', 'Parking']] # Fazer um DataFrame apenas com os dados Price e Parking\n",
    "parking_price.plot.scatter(x='Parking',\n",
    "                           y='Price',\n",
    "                           title='Vagas x Aluguel',\n",
    "                           alpha=0.5,\n",
    "                           logy=True) # Cria um scatter plot com y em escala logarítimica\n",
    "\n",
    "# ----- Análise descritiva entre Latitude e o target\n",
    "parking_price = rent_data.loc[:, ['Price', 'Latitude']] # Fazer um DataFrame apenas com os dados Price e Latitude\n",
    "parking_price.plot.scatter(x='Latitude',\n",
    "                           y='Price',\n",
    "                           title='Latitude x Aluguel',\n",
    "                           alpha=0.5,\n",
    "                           logy=True) # Cria um scatter plot com y em escala logarítimica\n",
    "\n",
    "# ----- Análise descritiva entre Longitude e o target\n",
    "parking_price = rent_data.loc[:, ['Price', 'Longitude']] # Fazer um DataFrame apenas com os dados Price e Longitude\n",
    "parking_price.plot.scatter(x='Longitude',\n",
    "                           y='Price',\n",
    "                           title='Longitude x Aluguel',\n",
    "                           alpha=0.5,\n",
    "                           logy=True) # Cria um scatter plot com y em escala logarítimica"
   ]
  },
  {
   "cell_type": "code",
   "execution_count": 5,
   "metadata": {},
   "outputs": [
    {
     "name": "stdout",
     "output_type": "stream",
     "text": [
      "===== MEDIDAS RESUMO DA VARIÁVEL TARGET =====\n",
      "count     7228.000000\n",
      "mean      3077.669065\n",
      "std       3522.830284\n",
      "min        480.000000\n",
      "25%       1350.000000\n",
      "50%       2000.000000\n",
      "75%       3300.000000\n",
      "max      50000.000000\n",
      "Name: Price, dtype: float64\n",
      "=============================================\n"
     ]
    },
    {
     "data": {
      "text/plain": [
       "(array([1., 0., 1., 0., 1., 0., 0., 0., 0., 3.]),\n",
       " array([1250., 1385., 1520., 1655., 1790., 1925., 2060., 2195., 2330.,\n",
       "        2465., 2600.]),\n",
       " <a list of 10 Patch objects>)"
      ]
     },
     "execution_count": 5,
     "metadata": {},
     "output_type": "execute_result"
    },
    {
     "data": {
      "image/png": "[encoded data removed]",
      "text/plain": [
       "<Figure size 1080x720 with 4 Axes>"
      ]
     },
     "metadata": {
      "needs_background": "light"
     },
     "output_type": "display_data"
    }
   ],
   "source": [
    "# ===== MEDIDAS RESUMO TARGET =====\n",
    "print('===== MEDIDAS RESUMO DA VARIÁVEL TARGET =====')\n",
    "print(rent_data.Price.describe())\n",
    "print('=============================================')\n",
    "\n",
    "# ===== HISTOGRAMAS =====\n",
    "\n",
    "# Formatações iniciais\n",
    "plt.figure(figsize=(15,10)) # Cria uma figura para plotar os graficos da maneira mais organizada\n",
    "cmap = plt.get_cmap('jet')  # Paleta de cor\n",
    "\n",
    "# ----- Análise descritiva entre ter ou não elevador e o target\n",
    "elevator_filter  = rent_data.loc[rent_data['Elevator'] == 0, 'Price'] # Filtro para dados de apartamentos que não têm elevador\n",
    "elevator_filter1 = rent_data.loc[rent_data['Elevator'] == 1, 'Price'] # Filtro para dados de apartamentos que têm elevador\n",
    "plt.subplot(221) # Posição do gráfico numa matriz 2x2\n",
    "\n",
    "# Legendas\n",
    "plt.title('Análise descritiva Preço x Elevador')\n",
    "elevator_1 = [Rectangle((0,0),1,1,color=c,ec=\"k\") for c in [cmap(0.25) ,cmap(0.8)]] # Cria um retângulo para colocar as legendas e escolhe suas cores\n",
    "elevator_2 = [\"s/ elevador\",\"c/ elevador\"] # Define a descrição das legendas\n",
    "plt.legend(elevator_1, elevator_2) # Cria as legendas\n",
    "plt.hist(elevator_filter)  # Sem elevador\n",
    "plt.hist(elevator_filter1) # Com elevador\n",
    "\n",
    "# ----- Análise descritiva entre ter ou não mobília e o target\n",
    "furnished_filter  = rent_data.loc[rent_data['Furnished'] == 0, 'Price'] # Filtro para dados de apartamentos que não têm mobília\n",
    "furnished_filter1 = rent_data.loc[rent_data['Furnished'] == 1, 'Price'] # Filtro para dados de apartamentos que têm mobília\n",
    "plt.subplot(222) # Posição do gráfico numa matriz 2x2\n",
    "\n",
    "# Legendas\n",
    "plt.title('Análise descritiva Preço x Mobília')\n",
    "furnished_1 = [Rectangle((0,0),1,1,color=c,ec=\"k\") for c in [cmap(0.25) ,cmap(0.8)]] # Cria um retângulo para colocar as legendas e escolhe suas cores\n",
    "furnished_2 = [\"s/ mobilia\",\"c/ mobilia\"] # Define a descrição das legendas\n",
    "plt.legend(furnished_1, furnished_2) # Cria as legendas\n",
    "plt.hist(furnished_filter)  # Sem mobília\n",
    "plt.hist(furnished_filter1) # Com mobília\n",
    "\n",
    "# ----- Análise descritiva entre ter ou não piscina e o target\n",
    "swimmingpool_filter  = rent_data.loc[rent_data['Swimming Pool'] == 0, 'Price'] # Filtro para dados de apartamentos que não têm piscina\n",
    "swimmingpool_filter1 = rent_data.loc[rent_data['Swimming Pool'] == 1, 'Price'] # Filtro para dados de apartamentos que têm piscina\n",
    "plt.subplot(223) # Posição do gráfico numa matriz 2x2\n",
    "\n",
    "# Legendas\n",
    "plt.title('Análise descritiva Preço x Piscina')\n",
    "piscina_1 = [Rectangle((0,0),1,1,color=c,ec=\"k\") for c in [cmap(0.25) ,cmap(0.8)]] # Cria um retângulo para colocar as legendas e escolhe suas cores\n",
    "piscina_2 = [\"s/ piscina\",\"c/ piscina\"] # Define a descrição das legendas\n",
    "plt.legend(piscina_1, piscina_2) # Cria as legendas\n",
    "plt.hist(swimmingpool_filter)  # Sem piscina\n",
    "plt.hist(swimmingpool_filter1) # Com piscina\n",
    "\n",
    "# ----- Análise descritiva entre ser ou não um imóvel novo e o target\n",
    "new_filter  = rent_data.loc[rent_data['New'] == 0, 'Price'] # Filtro para dados de apartamentos que não são novos\n",
    "new_filter1 = rent_data.loc[rent_data['New'] == 1, 'Price'] # Filtro para dados de apartamentos que são novos\n",
    "plt.subplot(224) # Posição do gráfico numa matriz 2x2\n",
    "\n",
    "# Legendas\n",
    "plt.title('Análise descritiva Preço x Novo')\n",
    "novo_1 = [Rectangle((0,0),1,1,color=c,ec=\"k\") for c in [cmap(0.25) ,cmap(0.8)]] # Cria um retângulo para colocar as legendas e escolhe suas cores\n",
    "novo_2 = [\"antigo\",\"novo\"] # Define a descrição das legendas\n",
    "plt.legend(novo_1, novo_2) # Cria as legendas\n",
    "plt.hist(new_filter, density=False)  # Não novo\n",
    "plt.hist(new_filter1, density=False) # Novo"
   ]
  },
  {
   "cell_type": "markdown",
   "metadata": {},
   "source": [
    "## Conclusão dos gráficos:\n",
    "- Deve ser feito um dimensionamento de recursos de todas as variáveis quantitativas e lidar com a falta de dados de latitude e longitude, usando o SimpleImputer com a estratégia de Média (strategy='mean');\n",
    "- Variáveis relevantes:\n",
    "    - Condomínio;\n",
    "    - Área;\n",
    "    - Quartos;\n",
    "    - Banheiros;\n",
    "    - Suites;\n",
    "    - Vagas;\n",
    "    - Latitude (cuidando da falta de dados);\n",
    "    - Longitude (cuidando da falta de dados);\n",
    "    - Elevador;\n",
    "    - Mobília;\n",
    "    - Piscina;\n",
    "    - Imóvel novo."
   ]
  },
  {
   "cell_type": "markdown",
   "metadata": {},
   "source": [
    "### 1.4 Reordenando os dados para ficarem em uma ordem mais legível"
   ]
  },
  {
   "cell_type": "code",
   "execution_count": 6,
   "metadata": {
    "scrolled": false
   },
   "outputs": [
    {
     "data": {
      "text/html": [
       "<div>\n",
       "<style scoped>\n",
       "    .dataframe tbody tr th:only-of-type {\n",
       "        vertical-align: middle;\n",
       "    }\n",
       "\n",
       "    .dataframe tbody tr th {\n",
       "        vertical-align: top;\n",
       "    }\n",
       "\n",
       "    .dataframe thead th {\n",
       "        text-align: right;\n",
       "    }\n",
       "</style>\n",
       "<table border=\"1\" class=\"dataframe\">\n",
       "  <thead>\n",
       "    <tr style=\"text-align: right;\">\n",
       "      <th></th>\n",
       "      <th>Condo</th>\n",
       "      <th>Size</th>\n",
       "      <th>Rooms</th>\n",
       "      <th>Toilets</th>\n",
       "      <th>Suites</th>\n",
       "      <th>Parking</th>\n",
       "      <th>Latitude</th>\n",
       "      <th>Longitude</th>\n",
       "      <th>Elevator</th>\n",
       "      <th>Furnished</th>\n",
       "      <th>Swimming Pool</th>\n",
       "      <th>New</th>\n",
       "      <th>Price</th>\n",
       "    </tr>\n",
       "  </thead>\n",
       "  <tbody>\n",
       "    <tr>\n",
       "      <th>508</th>\n",
       "      <td>295</td>\n",
       "      <td>48</td>\n",
       "      <td>2</td>\n",
       "      <td>2</td>\n",
       "      <td>1</td>\n",
       "      <td>1</td>\n",
       "      <td>-23.626154</td>\n",
       "      <td>-46.470810</td>\n",
       "      <td>0</td>\n",
       "      <td>0</td>\n",
       "      <td>0</td>\n",
       "      <td>0</td>\n",
       "      <td>480</td>\n",
       "    </tr>\n",
       "    <tr>\n",
       "      <th>4486</th>\n",
       "      <td>380</td>\n",
       "      <td>66</td>\n",
       "      <td>2</td>\n",
       "      <td>1</td>\n",
       "      <td>0</td>\n",
       "      <td>1</td>\n",
       "      <td>-23.456981</td>\n",
       "      <td>-46.730490</td>\n",
       "      <td>0</td>\n",
       "      <td>0</td>\n",
       "      <td>0</td>\n",
       "      <td>0</td>\n",
       "      <td>500</td>\n",
       "    </tr>\n",
       "    <tr>\n",
       "      <th>2878</th>\n",
       "      <td>36</td>\n",
       "      <td>45</td>\n",
       "      <td>1</td>\n",
       "      <td>2</td>\n",
       "      <td>1</td>\n",
       "      <td>0</td>\n",
       "      <td>0.000000</td>\n",
       "      <td>0.000000</td>\n",
       "      <td>0</td>\n",
       "      <td>0</td>\n",
       "      <td>1</td>\n",
       "      <td>0</td>\n",
       "      <td>500</td>\n",
       "    </tr>\n",
       "    <tr>\n",
       "      <th>288</th>\n",
       "      <td>0</td>\n",
       "      <td>40</td>\n",
       "      <td>1</td>\n",
       "      <td>2</td>\n",
       "      <td>1</td>\n",
       "      <td>1</td>\n",
       "      <td>-23.491297</td>\n",
       "      <td>-46.393691</td>\n",
       "      <td>0</td>\n",
       "      <td>0</td>\n",
       "      <td>0</td>\n",
       "      <td>0</td>\n",
       "      <td>500</td>\n",
       "    </tr>\n",
       "    <tr>\n",
       "      <th>122</th>\n",
       "      <td>0</td>\n",
       "      <td>50</td>\n",
       "      <td>1</td>\n",
       "      <td>2</td>\n",
       "      <td>1</td>\n",
       "      <td>1</td>\n",
       "      <td>-23.559095</td>\n",
       "      <td>-46.488160</td>\n",
       "      <td>0</td>\n",
       "      <td>0</td>\n",
       "      <td>0</td>\n",
       "      <td>0</td>\n",
       "      <td>500</td>\n",
       "    </tr>\n",
       "    <tr>\n",
       "      <th>...</th>\n",
       "      <td>...</td>\n",
       "      <td>...</td>\n",
       "      <td>...</td>\n",
       "      <td>...</td>\n",
       "      <td>...</td>\n",
       "      <td>...</td>\n",
       "      <td>...</td>\n",
       "      <td>...</td>\n",
       "      <td>...</td>\n",
       "      <td>...</td>\n",
       "      <td>...</td>\n",
       "      <td>...</td>\n",
       "      <td>...</td>\n",
       "    </tr>\n",
       "    <tr>\n",
       "      <th>10530</th>\n",
       "      <td>4500</td>\n",
       "      <td>442</td>\n",
       "      <td>4</td>\n",
       "      <td>5</td>\n",
       "      <td>4</td>\n",
       "      <td>6</td>\n",
       "      <td>-23.623419</td>\n",
       "      <td>-46.674971</td>\n",
       "      <td>0</td>\n",
       "      <td>0</td>\n",
       "      <td>1</td>\n",
       "      <td>0</td>\n",
       "      <td>40000</td>\n",
       "    </tr>\n",
       "    <tr>\n",
       "      <th>234</th>\n",
       "      <td>0</td>\n",
       "      <td>443</td>\n",
       "      <td>4</td>\n",
       "      <td>2</td>\n",
       "      <td>1</td>\n",
       "      <td>1</td>\n",
       "      <td>-23.585700</td>\n",
       "      <td>-46.682600</td>\n",
       "      <td>0</td>\n",
       "      <td>0</td>\n",
       "      <td>0</td>\n",
       "      <td>0</td>\n",
       "      <td>45000</td>\n",
       "    </tr>\n",
       "    <tr>\n",
       "      <th>3732</th>\n",
       "      <td>6100</td>\n",
       "      <td>349</td>\n",
       "      <td>4</td>\n",
       "      <td>5</td>\n",
       "      <td>4</td>\n",
       "      <td>5</td>\n",
       "      <td>-23.572635</td>\n",
       "      <td>-46.658955</td>\n",
       "      <td>0</td>\n",
       "      <td>0</td>\n",
       "      <td>1</td>\n",
       "      <td>0</td>\n",
       "      <td>50000</td>\n",
       "    </tr>\n",
       "    <tr>\n",
       "      <th>1589</th>\n",
       "      <td>6800</td>\n",
       "      <td>598</td>\n",
       "      <td>4</td>\n",
       "      <td>7</td>\n",
       "      <td>4</td>\n",
       "      <td>6</td>\n",
       "      <td>-23.550690</td>\n",
       "      <td>-46.721691</td>\n",
       "      <td>1</td>\n",
       "      <td>0</td>\n",
       "      <td>1</td>\n",
       "      <td>0</td>\n",
       "      <td>50000</td>\n",
       "    </tr>\n",
       "    <tr>\n",
       "      <th>3408</th>\n",
       "      <td>5500</td>\n",
       "      <td>670</td>\n",
       "      <td>5</td>\n",
       "      <td>6</td>\n",
       "      <td>5</td>\n",
       "      <td>7</td>\n",
       "      <td>-23.625617</td>\n",
       "      <td>-46.674614</td>\n",
       "      <td>0</td>\n",
       "      <td>0</td>\n",
       "      <td>1</td>\n",
       "      <td>0</td>\n",
       "      <td>50000</td>\n",
       "    </tr>\n",
       "  </tbody>\n",
       "</table>\n",
       "<p>7228 rows × 13 columns</p>\n",
       "</div>"
      ],
      "text/plain": [
       "       Condo  Size  Rooms  Toilets  Suites  Parking   Latitude  Longitude  \\\n",
       "508      295    48      2        2       1        1 -23.626154 -46.470810   \n",
       "4486     380    66      2        1       0        1 -23.456981 -46.730490   \n",
       "2878      36    45      1        2       1        0   0.000000   0.000000   \n",
       "288        0    40      1        2       1        1 -23.491297 -46.393691   \n",
       "122        0    50      1        2       1        1 -23.559095 -46.488160   \n",
       "...      ...   ...    ...      ...     ...      ...        ...        ...   \n",
       "10530   4500   442      4        5       4        6 -23.623419 -46.674971   \n",
       "234        0   443      4        2       1        1 -23.585700 -46.682600   \n",
       "3732    6100   349      4        5       4        5 -23.572635 -46.658955   \n",
       "1589    6800   598      4        7       4        6 -23.550690 -46.721691   \n",
       "3408    5500   670      5        6       5        7 -23.625617 -46.674614   \n",
       "\n",
       "       Elevator  Furnished  Swimming Pool  New  Price  \n",
       "508           0          0              0    0    480  \n",
       "4486          0          0              0    0    500  \n",
       "2878          0          0              1    0    500  \n",
       "288           0          0              0    0    500  \n",
       "122           0          0              0    0    500  \n",
       "...         ...        ...            ...  ...    ...  \n",
       "10530         0          0              1    0  40000  \n",
       "234           0          0              0    0  45000  \n",
       "3732          0          0              1    0  50000  \n",
       "1589          1          0              1    0  50000  \n",
       "3408          0          0              1    0  50000  \n",
       "\n",
       "[7228 rows x 13 columns]"
      ]
     },
     "execution_count": 6,
     "metadata": {},
     "output_type": "execute_result"
    }
   ],
   "source": [
    "# DataFrame com os dados relevantes\n",
    "relevant_data = rent_data.loc[:, ['Condo', 'Size', 'Rooms', 'Toilets', 'Suites', 'Parking', 'Latitude', 'Longitude', 'Elevator', 'Furnished', 'Swimming Pool', 'New', 'Price']]\n",
    "relevant_data.sort_values(['Price'], ascending=True)"
   ]
  },
  {
   "cell_type": "markdown",
   "metadata": {},
   "source": [
    "## 2. Preprocessamento de dados"
   ]
  },
  {
   "cell_type": "code",
   "execution_count": 8,
   "metadata": {},
   "outputs": [],
   "source": [
    "# Transformando int em float para auxiliar no dimensionamento de recursos\n",
    "for i in relevant_data.keys():\n",
    "    relevant_data[i] = relevant_data[i].astype(float)"
   ]
  },
  {
   "cell_type": "code",
   "execution_count": 9,
   "metadata": {},
   "outputs": [],
   "source": [
    "X = relevant_data.iloc[:, :-1].values # Separando as variáveis independentes\n",
    "Y = relevant_data.iloc[:, -1].values  # Separando a variável dependente"
   ]
  },
  {
   "cell_type": "markdown",
   "metadata": {},
   "source": [
    "### 2.1 Lidando com a falta de dados de latitude e longitude"
   ]
  },
  {
   "cell_type": "code",
   "execution_count": 10,
   "metadata": {},
   "outputs": [],
   "source": [
    "from sklearn.impute import SimpleImputer\n",
    "imputer = SimpleImputer(missing_values=np.nan, strategy='mean') # Definindo a estratégia da classe SimpleImputer para \"média\"\n",
    "imputer.fit(X[:, 6:8])\n",
    "X[:, 6:8] = imputer.transform(X[:, 6:8]) # Preenchendo Latitudes e Longitudes vazias"
   ]
  },
  {
   "cell_type": "markdown",
   "metadata": {},
   "source": [
    "### 2.2 Separando os dados em Treino e Teste"
   ]
  },
  {
   "cell_type": "code",
   "execution_count": 11,
   "metadata": {},
   "outputs": [],
   "source": [
    "# Separando os dados em Treino e Teste\n",
    "from sklearn.model_selection import train_test_split\n",
    "X_train, X_test, Y_train, Y_test = train_test_split(X, Y, test_size=0.2, random_state=1)"
   ]
  },
  {
   "cell_type": "markdown",
   "metadata": {},
   "source": [
    "### 2.3 Dimensionamento de recursos"
   ]
  },
  {
   "cell_type": "code",
   "execution_count": 12,
   "metadata": {},
   "outputs": [],
   "source": [
    "# Dimensionamento de recursos\n",
    "from sklearn.preprocessing import StandardScaler\n",
    "sc = StandardScaler()\n",
    "X_train[:, :7] = sc.fit_transform(X_train[:, :7]) # Redimensionando as colunas com variáveis quantitativas\n",
    "X_test[:, :7] = sc.transform(X_test[:, :7]) # Redimensionando também as colunas do teste"
   ]
  },
  {
   "cell_type": "markdown",
   "metadata": {},
   "source": [
    "# Regressões"
   ]
  },
  {
   "cell_type": "markdown",
   "metadata": {},
   "source": [
    "## 3. Regressão por Árvore de Decisão"
   ]
  },
  {
   "cell_type": "markdown",
   "metadata": {},
   "source": [
    "<img src=\"decision_tree3.png\" width=\"600\" height=\"300\">"
   ]
  },
  {
   "cell_type": "markdown",
   "metadata": {},
   "source": [
    "#### Regressão por Árvore de Decisão\n",
    "Dado um scatter plot como o do exemplo, a regressão por árvore de decisão irá \"cortar\" e separar os dados em grupos, cada um sendo uma ramificação da árvore, que tomará sua decisão sempre nas pontas das folhas"
   ]
  },
  {
   "cell_type": "markdown",
   "metadata": {},
   "source": [
    "<img src=\"decision_tree.png\" width=\"600\" height=\"300\">"
   ]
  },
  {
   "cell_type": "markdown",
   "metadata": {},
   "source": [
    "Acima um exemplo da separação dos dados.\n",
    "\n",
    "Abaixo o mesmo exemplo mas com as \"folhas\" da árvore expostas."
   ]
  },
  {
   "cell_type": "markdown",
   "metadata": {},
   "source": [
    "<img src=\"decision_tree2.png\" width=\"600\" height=\"300\">"
   ]
  },
  {
   "cell_type": "code",
   "execution_count": 13,
   "metadata": {},
   "outputs": [
    {
     "data": {
      "text/plain": [
       "DecisionTreeRegressor()"
      ]
     },
     "execution_count": 13,
     "metadata": {},
     "output_type": "execute_result"
    }
   ],
   "source": [
    "# Aplicar o Decision Tree Regressor\n",
    "from sklearn.tree import DecisionTreeRegressor\n",
    "regressor = DecisionTreeRegressor()\n",
    "regressor.fit(X_train, Y_train)"
   ]
  },
  {
   "cell_type": "code",
   "execution_count": 14,
   "metadata": {
    "scrolled": true
   },
   "outputs": [
    {
     "name": "stdout",
     "output_type": "stream",
     "text": [
      "[[1430. 1480.]\n",
      " [1550. 3800.]\n",
      " [4500. 5000.]\n",
      " ...\n",
      " [2500. 2200.]\n",
      " [6000. 3000.]\n",
      " [4500. 4500.]]\n"
     ]
    }
   ],
   "source": [
    "Y_pred = regressor.predict(X_test)\n",
    "np.set_printoptions(precision=2) # Configurando o print para uma precisão de duas casas decimais\n",
    "print(np.concatenate((Y_pred.reshape(len(Y_pred),1), Y_test.reshape(len(Y_test),1)),1)) # Matriz de comparação dos resultados"
   ]
  },
  {
   "cell_type": "markdown",
   "metadata": {},
   "source": [
    "### 3.1 Precisão por R²"
   ]
  },
  {
   "cell_type": "code",
   "execution_count": 15,
   "metadata": {},
   "outputs": [
    {
     "data": {
      "text/plain": [
       "0.5984206783087409"
      ]
     },
     "execution_count": 15,
     "metadata": {},
     "output_type": "execute_result"
    }
   ],
   "source": [
    "from sklearn.metrics import r2_score\n",
    "r2_score(Y_test, Y_pred)"
   ]
  },
  {
   "cell_type": "markdown",
   "metadata": {},
   "source": [
    "## 4. Regressão linear múltipla"
   ]
  },
  {
   "cell_type": "markdown",
   "metadata": {},
   "source": [
    "<img src=\"regressao_linear_multipla.png\" width=\"600\" height=\"450\">"
   ]
  },
  {
   "cell_type": "markdown",
   "metadata": {},
   "source": [
    "<img src=\"MMQ.png\" width=\"400\" height=\"200\">"
   ]
  },
  {
   "cell_type": "markdown",
   "metadata": {},
   "source": [
    "<img src=\"MMQ2.png\" width=\"400\" height=\"200\">"
   ]
  },
  {
   "cell_type": "markdown",
   "metadata": {},
   "source": [
    "#### O que é a regressão linear múltipla?\n",
    "É uma técnica estatística que usa várias variáveis explicativas para prever o resultado de uma variável de resposta.\n",
    "O objetivo da regressão linear múltipla é modelar a relação linear entre as variáveis explicativas (independentes) e a variável de resposta (dependente).\n",
    "\n",
    "Em essência, a regressão múltipla é a extensão da regressão linear simples porque envolve mais de uma variável explicativa.\n",
    "\n",
    "A regressão linear simples é uma função que permite a um analista ou estatístico fazer previsões sobre uma variável com base nas informações conhecidas sobre outra variável. A regressão linear só pode ser usada quando se tem duas variáveis contínuas - uma variável independente e uma variável dependente. A variável independente é o parâmetro usado para calcular a variável dependente ou resultado. Um modelo de regressão múltipla se estende a várias variáveis explicativas.\n",
    "\n",
    "Existe uma relação linear entre as variáveis dependentes e as variáveis independentes.\n",
    "\n",
    "As variáveis independentes não são altamente correlacionadas entre si e as observações são selecionadas de forma independente e aleatória da população. Os resíduos devem ser normalmente distribuídos com uma média de 0 e variância σ\n",
    "O coeficiente de determinação (R-quadrado) é uma métrica estatística usada para medir o quanto da variação no resultado pode ser explicado pela variação nas variáveis independentes. R2 sempre aumenta à medida que mais preditores são adicionados ao modelo MLR, mesmo que os preditores possam não estar relacionados à variável de resultado.\n",
    "\n",
    "O R2 por si só não pode ser usado para identificar quais preditores devem ser incluídos em um modelo e quais devem ser excluídos. R2 só pode estar entre 0 e 1, onde 0 indica que o resultado não pode ser previsto por nenhuma das variáveis independentes e 1 indica que o resultado pode ser previsto sem erros das variáveis independentes.\n",
    "\n",
    "Ao interpretar os resultados da regressão múltipla, os coeficientes beta são válidos enquanto mantêm todas as outras variáveis constantes (\"todo o resto igual\"). A saída de uma regressão múltipla pode ser exibida horizontalmente como uma equação ou verticalmente em forma de tabela."
   ]
  },
  {
   "cell_type": "code",
   "execution_count": 16,
   "metadata": {},
   "outputs": [
    {
     "data": {
      "text/plain": [
       "LinearRegression()"
      ]
     },
     "execution_count": 16,
     "metadata": {},
     "output_type": "execute_result"
    }
   ],
   "source": [
    "from sklearn.linear_model import LinearRegression\n",
    "regressor = LinearRegression()\n",
    "regressor.fit(X_train, Y_train)"
   ]
  },
  {
   "cell_type": "code",
   "execution_count": 17,
   "metadata": {},
   "outputs": [
    {
     "name": "stdout",
     "output_type": "stream",
     "text": [
      "[[1792.27 1480.  ]\n",
      " [3409.92 3800.  ]\n",
      " [5044.55 5000.  ]\n",
      " ...\n",
      " [2477.84 2200.  ]\n",
      " [6364.79 3000.  ]\n",
      " [5491.82 4500.  ]]\n"
     ]
    }
   ],
   "source": [
    "Y_pred = regressor.predict(X_test)\n",
    "print(np.concatenate((Y_pred.reshape(len(Y_pred),1), Y_test.reshape(len(Y_test),1)),1)) # Matriz de comparação dos resultados"
   ]
  },
  {
   "cell_type": "markdown",
   "metadata": {},
   "source": [
    "### 4.1 Precisão por R²"
   ]
  },
  {
   "cell_type": "code",
   "execution_count": 18,
   "metadata": {},
   "outputs": [
    {
     "data": {
      "text/plain": [
       "0.6069289369023552"
      ]
     },
     "execution_count": 18,
     "metadata": {},
     "output_type": "execute_result"
    }
   ],
   "source": [
    "from sklearn.metrics import r2_score\n",
    "r2_score(Y_test, Y_pred)"
   ]
  },
  {
   "cell_type": "markdown",
   "metadata": {},
   "source": [
    "## 5. Regressão por Vetores de Suporte"
   ]
  },
  {
   "cell_type": "markdown",
   "metadata": {},
   "source": [
    "#### O que é a SVR\n",
    "Regressão por Vetores de Suporte tem grande semelhança visual da Regressão Linear Simples, a qual utiliza o R2 para definir sua previsão. O que os assemelha nesse aspecto visual é que a SVR é como um tubo ao invés de uma reta e o que estiver dentro do tubo não será considerado como erro, ou seja, cria uma margem de erro denominada com a letra grega ε."
   ]
  },
  {
   "cell_type": "markdown",
   "metadata": {},
   "source": [
    "<img src=\"SVR.png\" width=\"400\" height=\"200\">"
   ]
  },
  {
   "cell_type": "markdown",
   "metadata": {},
   "source": [
    "<img src=\"SVR2.png\" width=\"600\" height=\"300\">"
   ]
  },
  {
   "cell_type": "code",
   "execution_count": 25,
   "metadata": {},
   "outputs": [
    {
     "data": {
      "text/plain": [
       "SVR(kernel='linear')"
      ]
     },
     "execution_count": 25,
     "metadata": {},
     "output_type": "execute_result"
    }
   ],
   "source": [
    "from sklearn.svm import SVR\n",
    "regressor = SVR(kernel='linear')\n",
    "regressor.fit(X_train, Y_train)"
   ]
  },
  {
   "cell_type": "code",
   "execution_count": 26,
   "metadata": {},
   "outputs": [
    {
     "name": "stdout",
     "output_type": "stream",
     "text": [
      "[[1400.01 1480.  ]\n",
      " [2146.34 3800.  ]\n",
      " [4121.52 5000.  ]\n",
      " ...\n",
      " [2228.2  2200.  ]\n",
      " [4714.74 3000.  ]\n",
      " [4142.96 4500.  ]]\n"
     ]
    }
   ],
   "source": [
    "Y_pred = regressor.predict(X_test)\n",
    "print(np.concatenate((Y_pred.reshape(len(Y_pred),1), Y_test.reshape(len(Y_test),1)),1)) # Matriz de comparação dos resultados"
   ]
  },
  {
   "cell_type": "markdown",
   "metadata": {},
   "source": [
    "### 5.1 Precisão por R²"
   ]
  },
  {
   "cell_type": "code",
   "execution_count": 27,
   "metadata": {},
   "outputs": [
    {
     "data": {
      "text/plain": [
       "0.48454809898207296"
      ]
     },
     "execution_count": 27,
     "metadata": {},
     "output_type": "execute_result"
    }
   ],
   "source": [
    "from sklearn.metrics import r2_score\n",
    "r2_score(Y_test, Y_pred)"
   ]
  },
  {
   "cell_type": "markdown",
   "metadata": {},
   "source": [
    "## 6. Regressão por Floresta Aleatória (selecionado como regressão principal)"
   ]
  },
  {
   "cell_type": "markdown",
   "metadata": {},
   "source": [
    "#### Random Forest Regression \n",
    "É um algoritmo de aprendizagem supervisionada que usa o método de aprendizagem em conjunto para classificação e regressão, sendo cada árvore uma possibilidade de sequências de algoritmos de regressão que irão retornar um determinado resultado, que será a média dos resultados de todas as árvores"
   ]
  },
  {
   "cell_type": "code",
   "execution_count": 22,
   "metadata": {},
   "outputs": [
    {
     "data": {
      "text/plain": [
       "RandomForestRegressor(n_estimators=800, random_state=123)"
      ]
     },
     "execution_count": 22,
     "metadata": {},
     "output_type": "execute_result"
    }
   ],
   "source": [
    "from sklearn.ensemble import RandomForestRegressor\n",
    "regressor = RandomForestRegressor(n_estimators=800, random_state=123) # Definindo um número de árvores para maior sucesso\n",
    "regressor.fit(X_train, Y_train)"
   ]
  },
  {
   "cell_type": "code",
   "execution_count": 23,
   "metadata": {
    "scrolled": false
   },
   "outputs": [
    {
     "name": "stdout",
     "output_type": "stream",
     "text": [
      "[[1400.63 1480.  ]\n",
      " [2093.28 3800.  ]\n",
      " [4590.01 5000.  ]\n",
      " ...\n",
      " [2368.51 2200.  ]\n",
      " [4760.06 3000.  ]\n",
      " [4390.99 4500.  ]]\n"
     ]
    }
   ],
   "source": [
    "Y_pred = regressor.predict(X_test)\n",
    "print(np.concatenate((Y_pred.reshape(len(Y_pred),1), Y_test.reshape(len(Y_test),1)),1)) # Matriz de comparação dos resultados"
   ]
  },
  {
   "cell_type": "markdown",
   "metadata": {},
   "source": [
    "### 6.1 Precisão por R²"
   ]
  },
  {
   "cell_type": "code",
   "execution_count": 24,
   "metadata": {},
   "outputs": [
    {
     "data": {
      "text/plain": [
       "0.7642279341440652"
      ]
     },
     "execution_count": 24,
     "metadata": {},
     "output_type": "execute_result"
    }
   ],
   "source": [
    "from sklearn.metrics import r2_score\n",
    "r2_score(Y_test, Y_pred)"
   ]
  },
  {
   "cell_type": "markdown",
   "metadata": {},
   "source": [
    "# Conclusão:\n",
    "\n",
    "#### A performance do projeto poderia ser melhorada talvez com mais variáveis como, segurança do local, shopping próximo, estação de metrô ou trem próxima, policiamento do local, hospital próximo e afins.\n",
    "\n",
    "#### De fato a Regressão escolhida inicialmente, Random Forest Regression, foi a que se mostrou mais capaz de responder nossa pergunta: Qual o preço do aluguel dadas as variáveis:\n",
    "- Condo\n",
    "- Size\n",
    "- Rooms\n",
    "- Toilets\n",
    "- Suites\n",
    "- Parking\n",
    "- Elevator\n",
    "- Furnished\n",
    "- Swimming Pool\n",
    "- New\n",
    "- District\n",
    "- Negotiation Type\n",
    "- Property Type\n",
    "- Latitude\n",
    "- Longitude\n",
    "\n",
    "#### O Random Forest Regression teve o melhor desempenho, como esperado, tendo uma porcentagem de acerto de 76,42%.\n",
    "\n",
    "#### Podemos notar também que a Regressão Linear Múltipla obteve ótimos resultados na casa dos 60%.\n",
    "\n",
    "#### Em terceiro lugar ficou a Regressão por Árvore de Decisão, o segundo método escolhido para a tentativa de previsão, com uma porcentagem de acerto em torno de 60% também.\n",
    "\n",
    "#### Por último podemos notar o pior desempenho com o SVR na casa dos 50%."
   ]
  },
  {
   "cell_type": "markdown",
   "metadata": {},
   "source": [
    "# Referências\n",
    "Slides de aula de autoria da Professora Maria Kelly Venezuela\n",
    "\n",
    "Curso \"Machine Learning A-Z™: Hands-On Python & R In Data Science\""
   ]
  }
 ],
 "metadata": {
  "kernelspec": {
   "display_name": "Python 3",
   "language": "python",
   "name": "python3"
  },
  "language_info": {
   "codemirror_mode": {
    "name": "ipython",
    "version": 3
   },
   "file_extension": ".py",
   "mimetype": "text/x-python",
   "name": "python",
   "nbconvert_exporter": "python",
   "pygments_lexer": "ipython3",
   "version": "3.8.3"
  }
 },
 "nbformat": 4,
 "nbformat_minor": 4
}
